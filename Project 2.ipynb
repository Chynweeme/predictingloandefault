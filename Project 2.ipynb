{
 "cells": [
  {
   "cell_type": "code",
   "execution_count": 1,
   "id": "a363c398-2036-48cc-bb24-b531c51e7590",
   "metadata": {},
   "outputs": [],
   "source": [
    "import pandas as pd\n",
    "import numpy as np\n",
    "import matplotlib.pyplot as plt\n",
    "import seaborn as sns\n",
    "import warnings"
   ]
  },
  {
   "cell_type": "code",
   "execution_count": 2,
   "id": "26808741-fe59-4081-8b8b-80c446805503",
   "metadata": {},
   "outputs": [
    {
     "data": {
      "text/plain": [
       "'https://raw.githubusercontent.com/Oyeniran20/axia_cohort_8/refs/heads/main/trainperf.csv'"
      ]
     },
     "execution_count": 2,
     "metadata": {},
     "output_type": "execute_result"
    }
   ],
   "source": [
    "url1 = \"https://raw.githubusercontent.com/Oyeniran20/axia_cohort_8/refs/heads/main/trainperf.csv\"\n",
    "url1"
   ]
  },
  {
   "cell_type": "code",
   "execution_count": 3,
   "id": "a48d7687-5bd8-4037-b788-2b70a039c968",
   "metadata": {},
   "outputs": [
    {
     "data": {
      "text/plain": [
       "'https://raw.githubusercontent.com/Oyeniran20/axia_cohort_8/refs/heads/main/trainperf.csv'"
      ]
     },
     "execution_count": 3,
     "metadata": {},
     "output_type": "execute_result"
    }
   ],
   "source": [
    "url2 = \"https://raw.githubusercontent.com/Oyeniran20/axia_cohort_8/refs/heads/main/trainperf.csv\"\n",
    "url2"
   ]
  },
  {
   "cell_type": "code",
   "execution_count": 4,
   "id": "596acfdc-afae-4727-a2c1-dc3cd99cc458",
   "metadata": {},
   "outputs": [
    {
     "data": {
      "text/plain": [
       "'https://raw.githubusercontent.com/Oyeniran20/axia_cohort_8/refs/heads/main/traindemographics.csv'"
      ]
     },
     "execution_count": 4,
     "metadata": {},
     "output_type": "execute_result"
    }
   ],
   "source": [
    "url3 = \"https://raw.githubusercontent.com/Oyeniran20/axia_cohort_8/refs/heads/main/traindemographics.csv\"\n",
    "url3"
   ]
  },
  {
   "cell_type": "code",
   "execution_count": 5,
   "id": "3dca57ab-ed87-4f34-990b-7f73d4d396ce",
   "metadata": {},
   "outputs": [
    {
     "data": {
      "text/html": [
       "<div>\n",
       "<style scoped>\n",
       "    .dataframe tbody tr th:only-of-type {\n",
       "        vertical-align: middle;\n",
       "    }\n",
       "\n",
       "    .dataframe tbody tr th {\n",
       "        vertical-align: top;\n",
       "    }\n",
       "\n",
       "    .dataframe thead th {\n",
       "        text-align: right;\n",
       "    }\n",
       "</style>\n",
       "<table border=\"1\" class=\"dataframe\">\n",
       "  <thead>\n",
       "    <tr style=\"text-align: right;\">\n",
       "      <th></th>\n",
       "      <th>customerid</th>\n",
       "      <th>systemloanid</th>\n",
       "      <th>loannumber</th>\n",
       "      <th>approveddate</th>\n",
       "      <th>creationdate</th>\n",
       "      <th>loanamount</th>\n",
       "      <th>totaldue</th>\n",
       "      <th>termdays</th>\n",
       "      <th>referredby</th>\n",
       "      <th>good_bad_flag</th>\n",
       "    </tr>\n",
       "  </thead>\n",
       "  <tbody>\n",
       "    <tr>\n",
       "      <th>0</th>\n",
       "      <td>8a2a81a74ce8c05d014cfb32a0da1049</td>\n",
       "      <td>301994762</td>\n",
       "      <td>12</td>\n",
       "      <td>2017-07-25 08:22:56.000000</td>\n",
       "      <td>2017-07-25 07:22:47.000000</td>\n",
       "      <td>30000.0</td>\n",
       "      <td>34500.0</td>\n",
       "      <td>30</td>\n",
       "      <td>NaN</td>\n",
       "      <td>Good</td>\n",
       "    </tr>\n",
       "    <tr>\n",
       "      <th>1</th>\n",
       "      <td>8a85886e54beabf90154c0a29ae757c0</td>\n",
       "      <td>301965204</td>\n",
       "      <td>2</td>\n",
       "      <td>2017-07-05 17:04:41.000000</td>\n",
       "      <td>2017-07-05 16:04:18.000000</td>\n",
       "      <td>15000.0</td>\n",
       "      <td>17250.0</td>\n",
       "      <td>30</td>\n",
       "      <td>NaN</td>\n",
       "      <td>Good</td>\n",
       "    </tr>\n",
       "    <tr>\n",
       "      <th>2</th>\n",
       "      <td>8a8588f35438fe12015444567666018e</td>\n",
       "      <td>301966580</td>\n",
       "      <td>7</td>\n",
       "      <td>2017-07-06 14:52:57.000000</td>\n",
       "      <td>2017-07-06 13:52:51.000000</td>\n",
       "      <td>20000.0</td>\n",
       "      <td>22250.0</td>\n",
       "      <td>15</td>\n",
       "      <td>NaN</td>\n",
       "      <td>Good</td>\n",
       "    </tr>\n",
       "    <tr>\n",
       "      <th>3</th>\n",
       "      <td>8a85890754145ace015429211b513e16</td>\n",
       "      <td>301999343</td>\n",
       "      <td>3</td>\n",
       "      <td>2017-07-27 19:00:41.000000</td>\n",
       "      <td>2017-07-27 18:00:35.000000</td>\n",
       "      <td>10000.0</td>\n",
       "      <td>11500.0</td>\n",
       "      <td>15</td>\n",
       "      <td>NaN</td>\n",
       "      <td>Good</td>\n",
       "    </tr>\n",
       "    <tr>\n",
       "      <th>4</th>\n",
       "      <td>8a858970548359cc0154883481981866</td>\n",
       "      <td>301962360</td>\n",
       "      <td>9</td>\n",
       "      <td>2017-07-03 23:42:45.000000</td>\n",
       "      <td>2017-07-03 22:42:39.000000</td>\n",
       "      <td>40000.0</td>\n",
       "      <td>44000.0</td>\n",
       "      <td>30</td>\n",
       "      <td>NaN</td>\n",
       "      <td>Good</td>\n",
       "    </tr>\n",
       "  </tbody>\n",
       "</table>\n",
       "</div>"
      ],
      "text/plain": [
       "                         customerid  systemloanid  loannumber  \\\n",
       "0  8a2a81a74ce8c05d014cfb32a0da1049     301994762          12   \n",
       "1  8a85886e54beabf90154c0a29ae757c0     301965204           2   \n",
       "2  8a8588f35438fe12015444567666018e     301966580           7   \n",
       "3  8a85890754145ace015429211b513e16     301999343           3   \n",
       "4  8a858970548359cc0154883481981866     301962360           9   \n",
       "\n",
       "                 approveddate                creationdate  loanamount  \\\n",
       "0  2017-07-25 08:22:56.000000  2017-07-25 07:22:47.000000     30000.0   \n",
       "1  2017-07-05 17:04:41.000000  2017-07-05 16:04:18.000000     15000.0   \n",
       "2  2017-07-06 14:52:57.000000  2017-07-06 13:52:51.000000     20000.0   \n",
       "3  2017-07-27 19:00:41.000000  2017-07-27 18:00:35.000000     10000.0   \n",
       "4  2017-07-03 23:42:45.000000  2017-07-03 22:42:39.000000     40000.0   \n",
       "\n",
       "   totaldue  termdays referredby good_bad_flag  \n",
       "0   34500.0        30        NaN          Good  \n",
       "1   17250.0        30        NaN          Good  \n",
       "2   22250.0        15        NaN          Good  \n",
       "3   11500.0        15        NaN          Good  \n",
       "4   44000.0        30        NaN          Good  "
      ]
     },
     "execution_count": 5,
     "metadata": {},
     "output_type": "execute_result"
    }
   ],
   "source": [
    "df1= pd.read_csv(url1)\n",
    "df1.head(5)"
   ]
  },
  {
   "cell_type": "code",
   "execution_count": 6,
   "id": "08342074-d531-4974-b1ac-4fcc0393baa2",
   "metadata": {},
   "outputs": [
    {
     "data": {
      "text/html": [
       "<div>\n",
       "<style scoped>\n",
       "    .dataframe tbody tr th:only-of-type {\n",
       "        vertical-align: middle;\n",
       "    }\n",
       "\n",
       "    .dataframe tbody tr th {\n",
       "        vertical-align: top;\n",
       "    }\n",
       "\n",
       "    .dataframe thead th {\n",
       "        text-align: right;\n",
       "    }\n",
       "</style>\n",
       "<table border=\"1\" class=\"dataframe\">\n",
       "  <thead>\n",
       "    <tr style=\"text-align: right;\">\n",
       "      <th></th>\n",
       "      <th>customerid</th>\n",
       "      <th>systemloanid</th>\n",
       "      <th>loannumber</th>\n",
       "      <th>approveddate</th>\n",
       "      <th>creationdate</th>\n",
       "      <th>loanamount</th>\n",
       "      <th>totaldue</th>\n",
       "      <th>termdays</th>\n",
       "      <th>referredby</th>\n",
       "      <th>good_bad_flag</th>\n",
       "    </tr>\n",
       "  </thead>\n",
       "  <tbody>\n",
       "    <tr>\n",
       "      <th>0</th>\n",
       "      <td>8a2a81a74ce8c05d014cfb32a0da1049</td>\n",
       "      <td>301994762</td>\n",
       "      <td>12</td>\n",
       "      <td>2017-07-25 08:22:56.000000</td>\n",
       "      <td>2017-07-25 07:22:47.000000</td>\n",
       "      <td>30000.0</td>\n",
       "      <td>34500.0</td>\n",
       "      <td>30</td>\n",
       "      <td>NaN</td>\n",
       "      <td>Good</td>\n",
       "    </tr>\n",
       "    <tr>\n",
       "      <th>1</th>\n",
       "      <td>8a85886e54beabf90154c0a29ae757c0</td>\n",
       "      <td>301965204</td>\n",
       "      <td>2</td>\n",
       "      <td>2017-07-05 17:04:41.000000</td>\n",
       "      <td>2017-07-05 16:04:18.000000</td>\n",
       "      <td>15000.0</td>\n",
       "      <td>17250.0</td>\n",
       "      <td>30</td>\n",
       "      <td>NaN</td>\n",
       "      <td>Good</td>\n",
       "    </tr>\n",
       "    <tr>\n",
       "      <th>2</th>\n",
       "      <td>8a8588f35438fe12015444567666018e</td>\n",
       "      <td>301966580</td>\n",
       "      <td>7</td>\n",
       "      <td>2017-07-06 14:52:57.000000</td>\n",
       "      <td>2017-07-06 13:52:51.000000</td>\n",
       "      <td>20000.0</td>\n",
       "      <td>22250.0</td>\n",
       "      <td>15</td>\n",
       "      <td>NaN</td>\n",
       "      <td>Good</td>\n",
       "    </tr>\n",
       "    <tr>\n",
       "      <th>3</th>\n",
       "      <td>8a85890754145ace015429211b513e16</td>\n",
       "      <td>301999343</td>\n",
       "      <td>3</td>\n",
       "      <td>2017-07-27 19:00:41.000000</td>\n",
       "      <td>2017-07-27 18:00:35.000000</td>\n",
       "      <td>10000.0</td>\n",
       "      <td>11500.0</td>\n",
       "      <td>15</td>\n",
       "      <td>NaN</td>\n",
       "      <td>Good</td>\n",
       "    </tr>\n",
       "    <tr>\n",
       "      <th>4</th>\n",
       "      <td>8a858970548359cc0154883481981866</td>\n",
       "      <td>301962360</td>\n",
       "      <td>9</td>\n",
       "      <td>2017-07-03 23:42:45.000000</td>\n",
       "      <td>2017-07-03 22:42:39.000000</td>\n",
       "      <td>40000.0</td>\n",
       "      <td>44000.0</td>\n",
       "      <td>30</td>\n",
       "      <td>NaN</td>\n",
       "      <td>Good</td>\n",
       "    </tr>\n",
       "  </tbody>\n",
       "</table>\n",
       "</div>"
      ],
      "text/plain": [
       "                         customerid  systemloanid  loannumber  \\\n",
       "0  8a2a81a74ce8c05d014cfb32a0da1049     301994762          12   \n",
       "1  8a85886e54beabf90154c0a29ae757c0     301965204           2   \n",
       "2  8a8588f35438fe12015444567666018e     301966580           7   \n",
       "3  8a85890754145ace015429211b513e16     301999343           3   \n",
       "4  8a858970548359cc0154883481981866     301962360           9   \n",
       "\n",
       "                 approveddate                creationdate  loanamount  \\\n",
       "0  2017-07-25 08:22:56.000000  2017-07-25 07:22:47.000000     30000.0   \n",
       "1  2017-07-05 17:04:41.000000  2017-07-05 16:04:18.000000     15000.0   \n",
       "2  2017-07-06 14:52:57.000000  2017-07-06 13:52:51.000000     20000.0   \n",
       "3  2017-07-27 19:00:41.000000  2017-07-27 18:00:35.000000     10000.0   \n",
       "4  2017-07-03 23:42:45.000000  2017-07-03 22:42:39.000000     40000.0   \n",
       "\n",
       "   totaldue  termdays referredby good_bad_flag  \n",
       "0   34500.0        30        NaN          Good  \n",
       "1   17250.0        30        NaN          Good  \n",
       "2   22250.0        15        NaN          Good  \n",
       "3   11500.0        15        NaN          Good  \n",
       "4   44000.0        30        NaN          Good  "
      ]
     },
     "execution_count": 6,
     "metadata": {},
     "output_type": "execute_result"
    }
   ],
   "source": [
    "df2= pd.read_csv(url2)\n",
    "df2.head(5)"
   ]
  },
  {
   "cell_type": "code",
   "execution_count": 7,
   "id": "9bbb2b80-9d1e-45c9-b592-5ff8fa9dd9aa",
   "metadata": {},
   "outputs": [
    {
     "data": {
      "text/html": [
       "<div>\n",
       "<style scoped>\n",
       "    .dataframe tbody tr th:only-of-type {\n",
       "        vertical-align: middle;\n",
       "    }\n",
       "\n",
       "    .dataframe tbody tr th {\n",
       "        vertical-align: top;\n",
       "    }\n",
       "\n",
       "    .dataframe thead th {\n",
       "        text-align: right;\n",
       "    }\n",
       "</style>\n",
       "<table border=\"1\" class=\"dataframe\">\n",
       "  <thead>\n",
       "    <tr style=\"text-align: right;\">\n",
       "      <th></th>\n",
       "      <th>customerid</th>\n",
       "      <th>birthdate</th>\n",
       "      <th>bank_account_type</th>\n",
       "      <th>longitude_gps</th>\n",
       "      <th>latitude_gps</th>\n",
       "      <th>bank_name_clients</th>\n",
       "      <th>bank_branch_clients</th>\n",
       "      <th>employment_status_clients</th>\n",
       "      <th>level_of_education_clients</th>\n",
       "    </tr>\n",
       "  </thead>\n",
       "  <tbody>\n",
       "    <tr>\n",
       "      <th>0</th>\n",
       "      <td>8a858e135cb22031015cbafc76964ebd</td>\n",
       "      <td>1973-10-10 00:00:00.000000</td>\n",
       "      <td>Savings</td>\n",
       "      <td>3.319219</td>\n",
       "      <td>6.528604</td>\n",
       "      <td>GT Bank</td>\n",
       "      <td>NaN</td>\n",
       "      <td>NaN</td>\n",
       "      <td>NaN</td>\n",
       "    </tr>\n",
       "    <tr>\n",
       "      <th>1</th>\n",
       "      <td>8a858e275c7ea5ec015c82482d7c3996</td>\n",
       "      <td>1986-01-21 00:00:00.000000</td>\n",
       "      <td>Savings</td>\n",
       "      <td>3.325598</td>\n",
       "      <td>7.119403</td>\n",
       "      <td>Sterling Bank</td>\n",
       "      <td>NaN</td>\n",
       "      <td>Permanent</td>\n",
       "      <td>NaN</td>\n",
       "    </tr>\n",
       "    <tr>\n",
       "      <th>2</th>\n",
       "      <td>8a858e5b5bd99460015bdc95cd485634</td>\n",
       "      <td>1987-04-01 00:00:00.000000</td>\n",
       "      <td>Savings</td>\n",
       "      <td>5.746100</td>\n",
       "      <td>5.563174</td>\n",
       "      <td>Fidelity Bank</td>\n",
       "      <td>NaN</td>\n",
       "      <td>NaN</td>\n",
       "      <td>NaN</td>\n",
       "    </tr>\n",
       "    <tr>\n",
       "      <th>3</th>\n",
       "      <td>8a858efd5ca70688015cabd1f1e94b55</td>\n",
       "      <td>1991-07-19 00:00:00.000000</td>\n",
       "      <td>Savings</td>\n",
       "      <td>3.362850</td>\n",
       "      <td>6.642485</td>\n",
       "      <td>GT Bank</td>\n",
       "      <td>NaN</td>\n",
       "      <td>Permanent</td>\n",
       "      <td>NaN</td>\n",
       "    </tr>\n",
       "    <tr>\n",
       "      <th>4</th>\n",
       "      <td>8a858e785acd3412015acd48f4920d04</td>\n",
       "      <td>1982-11-22 00:00:00.000000</td>\n",
       "      <td>Savings</td>\n",
       "      <td>8.455332</td>\n",
       "      <td>11.971410</td>\n",
       "      <td>GT Bank</td>\n",
       "      <td>NaN</td>\n",
       "      <td>Permanent</td>\n",
       "      <td>NaN</td>\n",
       "    </tr>\n",
       "  </tbody>\n",
       "</table>\n",
       "</div>"
      ],
      "text/plain": [
       "                         customerid                   birthdate  \\\n",
       "0  8a858e135cb22031015cbafc76964ebd  1973-10-10 00:00:00.000000   \n",
       "1  8a858e275c7ea5ec015c82482d7c3996  1986-01-21 00:00:00.000000   \n",
       "2  8a858e5b5bd99460015bdc95cd485634  1987-04-01 00:00:00.000000   \n",
       "3  8a858efd5ca70688015cabd1f1e94b55  1991-07-19 00:00:00.000000   \n",
       "4  8a858e785acd3412015acd48f4920d04  1982-11-22 00:00:00.000000   \n",
       "\n",
       "  bank_account_type  longitude_gps  latitude_gps bank_name_clients  \\\n",
       "0           Savings       3.319219      6.528604           GT Bank   \n",
       "1           Savings       3.325598      7.119403     Sterling Bank   \n",
       "2           Savings       5.746100      5.563174     Fidelity Bank   \n",
       "3           Savings       3.362850      6.642485           GT Bank   \n",
       "4           Savings       8.455332     11.971410           GT Bank   \n",
       "\n",
       "  bank_branch_clients employment_status_clients level_of_education_clients  \n",
       "0                 NaN                       NaN                        NaN  \n",
       "1                 NaN                 Permanent                        NaN  \n",
       "2                 NaN                       NaN                        NaN  \n",
       "3                 NaN                 Permanent                        NaN  \n",
       "4                 NaN                 Permanent                        NaN  "
      ]
     },
     "execution_count": 7,
     "metadata": {},
     "output_type": "execute_result"
    }
   ],
   "source": [
    "df3= pd.read_csv(url3)\n",
    "df3.head(5)"
   ]
  },
  {
   "cell_type": "code",
   "execution_count": 8,
   "id": "ca67c179-90d7-4264-8e69-93fc5667ded0",
   "metadata": {},
   "outputs": [
    {
     "name": "stdout",
     "output_type": "stream",
     "text": [
      "<class 'pandas.core.frame.DataFrame'>\n",
      "RangeIndex: 4368 entries, 0 to 4367\n",
      "Data columns (total 10 columns):\n",
      " #   Column         Non-Null Count  Dtype  \n",
      "---  ------         --------------  -----  \n",
      " 0   customerid     4368 non-null   object \n",
      " 1   systemloanid   4368 non-null   int64  \n",
      " 2   loannumber     4368 non-null   int64  \n",
      " 3   approveddate   4368 non-null   object \n",
      " 4   creationdate   4368 non-null   object \n",
      " 5   loanamount     4368 non-null   float64\n",
      " 6   totaldue       4368 non-null   float64\n",
      " 7   termdays       4368 non-null   int64  \n",
      " 8   referredby     587 non-null    object \n",
      " 9   good_bad_flag  4368 non-null   object \n",
      "dtypes: float64(2), int64(3), object(5)\n",
      "memory usage: 341.4+ KB\n"
     ]
    }
   ],
   "source": [
    "df1.info()"
   ]
  },
  {
   "cell_type": "code",
   "execution_count": 9,
   "id": "b92cf42d-8b50-4f30-8ef5-1ea8fa2fb0cb",
   "metadata": {},
   "outputs": [
    {
     "name": "stdout",
     "output_type": "stream",
     "text": [
      "<class 'pandas.core.frame.DataFrame'>\n",
      "RangeIndex: 4368 entries, 0 to 4367\n",
      "Data columns (total 10 columns):\n",
      " #   Column         Non-Null Count  Dtype  \n",
      "---  ------         --------------  -----  \n",
      " 0   customerid     4368 non-null   object \n",
      " 1   systemloanid   4368 non-null   int64  \n",
      " 2   loannumber     4368 non-null   int64  \n",
      " 3   approveddate   4368 non-null   object \n",
      " 4   creationdate   4368 non-null   object \n",
      " 5   loanamount     4368 non-null   float64\n",
      " 6   totaldue       4368 non-null   float64\n",
      " 7   termdays       4368 non-null   int64  \n",
      " 8   referredby     587 non-null    object \n",
      " 9   good_bad_flag  4368 non-null   object \n",
      "dtypes: float64(2), int64(3), object(5)\n",
      "memory usage: 341.4+ KB\n"
     ]
    }
   ],
   "source": [
    "df2.info()"
   ]
  },
  {
   "cell_type": "code",
   "execution_count": 10,
   "id": "93975ae3-f1ea-4dc8-9ed3-9b01498fe60c",
   "metadata": {},
   "outputs": [
    {
     "name": "stdout",
     "output_type": "stream",
     "text": [
      "<class 'pandas.core.frame.DataFrame'>\n",
      "RangeIndex: 4346 entries, 0 to 4345\n",
      "Data columns (total 9 columns):\n",
      " #   Column                      Non-Null Count  Dtype  \n",
      "---  ------                      --------------  -----  \n",
      " 0   customerid                  4346 non-null   object \n",
      " 1   birthdate                   4346 non-null   object \n",
      " 2   bank_account_type           4346 non-null   object \n",
      " 3   longitude_gps               4346 non-null   float64\n",
      " 4   latitude_gps                4346 non-null   float64\n",
      " 5   bank_name_clients           4346 non-null   object \n",
      " 6   bank_branch_clients         51 non-null     object \n",
      " 7   employment_status_clients   3698 non-null   object \n",
      " 8   level_of_education_clients  587 non-null    object \n",
      "dtypes: float64(2), object(7)\n",
      "memory usage: 305.7+ KB\n"
     ]
    }
   ],
   "source": [
    "df3.info()"
   ]
  },
  {
   "cell_type": "code",
   "execution_count": 11,
   "id": "ee2f4549-9d6c-4d11-a5bc-1bffc2ccacd6",
   "metadata": {},
   "outputs": [
    {
     "data": {
      "text/plain": [
       "0"
      ]
     },
     "execution_count": 11,
     "metadata": {},
     "output_type": "execute_result"
    }
   ],
   "source": [
    "df1.duplicated().sum()"
   ]
  },
  {
   "cell_type": "code",
   "execution_count": 12,
   "id": "e2cbd2cb-bdf3-4634-9c21-2768d34c8b6b",
   "metadata": {},
   "outputs": [
    {
     "data": {
      "text/plain": [
       "customerid          0\n",
       "systemloanid        0\n",
       "loannumber          0\n",
       "approveddate        0\n",
       "creationdate        0\n",
       "loanamount          0\n",
       "totaldue            0\n",
       "termdays            0\n",
       "referredby       3781\n",
       "good_bad_flag       0\n",
       "dtype: int64"
      ]
     },
     "execution_count": 12,
     "metadata": {},
     "output_type": "execute_result"
    }
   ],
   "source": [
    "#let's check for missing values\n",
    "df1.isna().sum()"
   ]
  },
  {
   "cell_type": "markdown",
   "id": "e7e4f4be-4af1-46b2-81d3-239e484b936a",
   "metadata": {},
   "source": [
    "#There are no missing values except for referred by. Based on our target column and the purpose of this project, we can easily drop the column referred by without affecting the outcome. We would also drop loan number because it has no effect on the outcome."
   ]
  },
  {
   "cell_type": "code",
   "execution_count": 14,
   "id": "4b02bee1-ffa1-43d4-9742-1dce72fbf35d",
   "metadata": {},
   "outputs": [
    {
     "data": {
      "text/plain": [
       "customerid          0\n",
       "systemloanid        0\n",
       "loannumber          0\n",
       "approveddate        0\n",
       "creationdate        0\n",
       "loanamount          0\n",
       "totaldue            0\n",
       "termdays            0\n",
       "referredby       3781\n",
       "good_bad_flag       0\n",
       "dtype: int64"
      ]
     },
     "execution_count": 14,
     "metadata": {},
     "output_type": "execute_result"
    }
   ],
   "source": [
    "#let's check for the missing values for the second database\n",
    "df2.isna().sum()"
   ]
  },
  {
   "cell_type": "code",
   "execution_count": 15,
   "id": "6c3f330c-6422-43ba-aa14-dcdc523d6723",
   "metadata": {},
   "outputs": [
    {
     "data": {
      "text/plain": [
       "customerid                       0\n",
       "birthdate                        0\n",
       "bank_account_type                0\n",
       "longitude_gps                    0\n",
       "latitude_gps                     0\n",
       "bank_name_clients                0\n",
       "bank_branch_clients           4295\n",
       "employment_status_clients      648\n",
       "level_of_education_clients    3759\n",
       "dtype: int64"
      ]
     },
     "execution_count": 15,
     "metadata": {},
     "output_type": "execute_result"
    }
   ],
   "source": [
    "df3.isna().sum()"
   ]
  },
  {
   "cell_type": "code",
   "execution_count": 16,
   "id": "06ea73ad-ca58-4198-b0d8-4c3243ac4473",
   "metadata": {},
   "outputs": [
    {
     "data": {
      "text/plain": [
       "(4346, 9)"
      ]
     },
     "execution_count": 16,
     "metadata": {},
     "output_type": "execute_result"
    }
   ],
   "source": [
    "df3.shape"
   ]
  },
  {
   "cell_type": "code",
   "execution_count": 17,
   "id": "11104bd2-4ac4-4ab0-baf9-ea3a995c4638",
   "metadata": {},
   "outputs": [
    {
     "data": {
      "text/plain": [
       "array([nan, 'Permanent', 'Student', 'Self-Employed', 'Unemployed',\n",
       "       'Retired', 'Contract'], dtype=object)"
      ]
     },
     "execution_count": 17,
     "metadata": {},
     "output_type": "execute_result"
    }
   ],
   "source": [
    "df3['employment_status_clients'].unique()"
   ]
  },
  {
   "cell_type": "code",
   "execution_count": 18,
   "id": "fdcc1a7f-8751-41fb-ad10-e86672959eef",
   "metadata": {},
   "outputs": [
    {
     "data": {
      "text/plain": [
       "array([nan, 'LAGOS', 'LADIPO', 'AWOLOWO', 'OGBA', 'AJOSE ADEOGUN',\n",
       "       'ABULE EGBA', 'OREGUN', 'ABEOKUTA', 'TRANS AMADI',\n",
       "       'OBA AKRAN BERGER PAINT', 'APAPA', 'BOSSO ROAD, MINNA',\n",
       "       'DUGBE, IBADAN', 'ALAUSA', 'OJUELEGBA', 'MUSHIN BRANCH', 'AKUTE',\n",
       "       'OBA ADEBIMPE', 'STERLING BANK PLC 102, IJU ROAD, IFAKO BRANCH',\n",
       "       'MEDICAL ROAD IKEJA', 'ADENIRAN OGUNSANYA', 'OBA AKRAN',\n",
       "       '40,SAPELE ROAD ,OPPOSITE DUMAZ JUNCTION BENIN CITY EDO STATE.',\n",
       "       'ACCESS BANK PLC, CHALLENGE ROUNDABOUT IBADAN, OYO STATE.',\n",
       "       'ABULE EGBA U-TURN,BRANCH', 'OGUDU, OJOTA',\n",
       "       'OBA AKRAN ROAD, IKEJA,', '47 LAGOS ROAD, IKORODU', 'OAU ILE IFE',\n",
       "       'RING ROAD',\n",
       "       'PLOT 999C DANMOLE STREET, ADEOLA ODEKU, VICTORIA ISLAND, LAGOS',\n",
       "       'HERITAGE BANK, DUGBE, IBADAN', 'ADEOLA HOPEWELL',\n",
       "       'WHARF ROAD, APAPA', 'ILUPEJU', 'AKOWONJO', 'DUGBE,IBADAN',\n",
       "       'HEAD OFFICE', 'GBAGADA', 'LEKKI EPE', 'MAFOLUKU', 'AKURE BRANCH',\n",
       "       '17, SANUSI FAFUNWA STREET, VICTORIA ISLAND, LAGOS',\n",
       "       ' IDI - ORO MUSHIN', 'TINCAN'], dtype=object)"
      ]
     },
     "execution_count": 18,
     "metadata": {},
     "output_type": "execute_result"
    }
   ],
   "source": [
    "df3['bank_branch_clients'].unique()"
   ]
  },
  {
   "cell_type": "code",
   "execution_count": 19,
   "id": "3b2bf0a1-d055-4442-a4a4-1f2b0fc32fba",
   "metadata": {},
   "outputs": [],
   "source": [
    "#we would drop bank branch clients because the missing values is about 99% of the whole data.\n",
    "#foward or backward filling might fill the missing values, the volume of missing values is too much\n",
    "# to input assumed values. Any conclusion made from this data will most likely be false."
   ]
  },
  {
   "cell_type": "code",
   "execution_count": 20,
   "id": "224e60d9-14ba-4b02-8eb9-43154bc909de",
   "metadata": {},
   "outputs": [
    {
     "data": {
      "text/plain": [
       "array([nan, 'Secondary', 'Graduate', 'Post-Graduate', 'Primary'],\n",
       "      dtype=object)"
      ]
     },
     "execution_count": 20,
     "metadata": {},
     "output_type": "execute_result"
    }
   ],
   "source": [
    "df3['level_of_education_clients'].unique()"
   ]
  },
  {
   "cell_type": "code",
   "execution_count": 21,
   "id": "15ce8038-30c4-44fe-9cc4-c77e2b33320a",
   "metadata": {},
   "outputs": [],
   "source": [
    "#it seems we might have to dropt level of education clients column, because about 86% of the data\n",
    "# is missing."
   ]
  },
  {
   "cell_type": "code",
   "execution_count": 22,
   "id": "493fa641-2cb2-4511-96f1-e6b9f1c14ad7",
   "metadata": {},
   "outputs": [],
   "source": [
    "#Let's concatenate df1 and df2 and call it df4"
   ]
  },
  {
   "cell_type": "code",
   "execution_count": 23,
   "id": "81e4ee19-c5bc-482c-8f9e-fcd32222cbe2",
   "metadata": {},
   "outputs": [
    {
     "data": {
      "text/html": [
       "<div>\n",
       "<style scoped>\n",
       "    .dataframe tbody tr th:only-of-type {\n",
       "        vertical-align: middle;\n",
       "    }\n",
       "\n",
       "    .dataframe tbody tr th {\n",
       "        vertical-align: top;\n",
       "    }\n",
       "\n",
       "    .dataframe thead th {\n",
       "        text-align: right;\n",
       "    }\n",
       "</style>\n",
       "<table border=\"1\" class=\"dataframe\">\n",
       "  <thead>\n",
       "    <tr style=\"text-align: right;\">\n",
       "      <th></th>\n",
       "      <th>customerid</th>\n",
       "      <th>systemloanid</th>\n",
       "      <th>loannumber</th>\n",
       "      <th>approveddate</th>\n",
       "      <th>creationdate</th>\n",
       "      <th>loanamount</th>\n",
       "      <th>totaldue</th>\n",
       "      <th>termdays</th>\n",
       "      <th>referredby</th>\n",
       "      <th>good_bad_flag</th>\n",
       "    </tr>\n",
       "  </thead>\n",
       "  <tbody>\n",
       "    <tr>\n",
       "      <th>0</th>\n",
       "      <td>8a2a81a74ce8c05d014cfb32a0da1049</td>\n",
       "      <td>301994762</td>\n",
       "      <td>12</td>\n",
       "      <td>2017-07-25 08:22:56.000000</td>\n",
       "      <td>2017-07-25 07:22:47.000000</td>\n",
       "      <td>30000.0</td>\n",
       "      <td>34500.0</td>\n",
       "      <td>30</td>\n",
       "      <td>NaN</td>\n",
       "      <td>Good</td>\n",
       "    </tr>\n",
       "    <tr>\n",
       "      <th>1</th>\n",
       "      <td>8a85886e54beabf90154c0a29ae757c0</td>\n",
       "      <td>301965204</td>\n",
       "      <td>2</td>\n",
       "      <td>2017-07-05 17:04:41.000000</td>\n",
       "      <td>2017-07-05 16:04:18.000000</td>\n",
       "      <td>15000.0</td>\n",
       "      <td>17250.0</td>\n",
       "      <td>30</td>\n",
       "      <td>NaN</td>\n",
       "      <td>Good</td>\n",
       "    </tr>\n",
       "    <tr>\n",
       "      <th>2</th>\n",
       "      <td>8a8588f35438fe12015444567666018e</td>\n",
       "      <td>301966580</td>\n",
       "      <td>7</td>\n",
       "      <td>2017-07-06 14:52:57.000000</td>\n",
       "      <td>2017-07-06 13:52:51.000000</td>\n",
       "      <td>20000.0</td>\n",
       "      <td>22250.0</td>\n",
       "      <td>15</td>\n",
       "      <td>NaN</td>\n",
       "      <td>Good</td>\n",
       "    </tr>\n",
       "    <tr>\n",
       "      <th>3</th>\n",
       "      <td>8a85890754145ace015429211b513e16</td>\n",
       "      <td>301999343</td>\n",
       "      <td>3</td>\n",
       "      <td>2017-07-27 19:00:41.000000</td>\n",
       "      <td>2017-07-27 18:00:35.000000</td>\n",
       "      <td>10000.0</td>\n",
       "      <td>11500.0</td>\n",
       "      <td>15</td>\n",
       "      <td>NaN</td>\n",
       "      <td>Good</td>\n",
       "    </tr>\n",
       "    <tr>\n",
       "      <th>4</th>\n",
       "      <td>8a858970548359cc0154883481981866</td>\n",
       "      <td>301962360</td>\n",
       "      <td>9</td>\n",
       "      <td>2017-07-03 23:42:45.000000</td>\n",
       "      <td>2017-07-03 22:42:39.000000</td>\n",
       "      <td>40000.0</td>\n",
       "      <td>44000.0</td>\n",
       "      <td>30</td>\n",
       "      <td>NaN</td>\n",
       "      <td>Good</td>\n",
       "    </tr>\n",
       "  </tbody>\n",
       "</table>\n",
       "</div>"
      ],
      "text/plain": [
       "                         customerid  systemloanid  loannumber  \\\n",
       "0  8a2a81a74ce8c05d014cfb32a0da1049     301994762          12   \n",
       "1  8a85886e54beabf90154c0a29ae757c0     301965204           2   \n",
       "2  8a8588f35438fe12015444567666018e     301966580           7   \n",
       "3  8a85890754145ace015429211b513e16     301999343           3   \n",
       "4  8a858970548359cc0154883481981866     301962360           9   \n",
       "\n",
       "                 approveddate                creationdate  loanamount  \\\n",
       "0  2017-07-25 08:22:56.000000  2017-07-25 07:22:47.000000     30000.0   \n",
       "1  2017-07-05 17:04:41.000000  2017-07-05 16:04:18.000000     15000.0   \n",
       "2  2017-07-06 14:52:57.000000  2017-07-06 13:52:51.000000     20000.0   \n",
       "3  2017-07-27 19:00:41.000000  2017-07-27 18:00:35.000000     10000.0   \n",
       "4  2017-07-03 23:42:45.000000  2017-07-03 22:42:39.000000     40000.0   \n",
       "\n",
       "   totaldue  termdays referredby good_bad_flag  \n",
       "0   34500.0        30        NaN          Good  \n",
       "1   17250.0        30        NaN          Good  \n",
       "2   22250.0        15        NaN          Good  \n",
       "3   11500.0        15        NaN          Good  \n",
       "4   44000.0        30        NaN          Good  "
      ]
     },
     "execution_count": 23,
     "metadata": {},
     "output_type": "execute_result"
    }
   ],
   "source": [
    "df4 = pd.concat([df1, df2], axis=0)\n",
    "df4.head(5)"
   ]
  },
  {
   "cell_type": "code",
   "execution_count": 24,
   "id": "a441cfea-bd14-4da2-a9b3-fee04f9db629",
   "metadata": {},
   "outputs": [
    {
     "data": {
      "text/plain": [
       "(8736, 10)"
      ]
     },
     "execution_count": 24,
     "metadata": {},
     "output_type": "execute_result"
    }
   ],
   "source": [
    "df4.shape"
   ]
  },
  {
   "cell_type": "code",
   "execution_count": 25,
   "id": "9fc72d3e-2432-40a8-89fc-76ac1214fbf2",
   "metadata": {},
   "outputs": [
    {
     "data": {
      "text/plain": [
       "(4368, 10)"
      ]
     },
     "execution_count": 25,
     "metadata": {},
     "output_type": "execute_result"
    }
   ],
   "source": [
    "df1.shape"
   ]
  },
  {
   "cell_type": "code",
   "execution_count": 26,
   "id": "f489cef5-4b40-438a-9a13-02809acbe158",
   "metadata": {},
   "outputs": [
    {
     "data": {
      "text/html": [
       "<div>\n",
       "<style scoped>\n",
       "    .dataframe tbody tr th:only-of-type {\n",
       "        vertical-align: middle;\n",
       "    }\n",
       "\n",
       "    .dataframe tbody tr th {\n",
       "        vertical-align: top;\n",
       "    }\n",
       "\n",
       "    .dataframe thead th {\n",
       "        text-align: right;\n",
       "    }\n",
       "</style>\n",
       "<table border=\"1\" class=\"dataframe\">\n",
       "  <thead>\n",
       "    <tr style=\"text-align: right;\">\n",
       "      <th></th>\n",
       "      <th>count</th>\n",
       "      <th>mean</th>\n",
       "      <th>std</th>\n",
       "      <th>min</th>\n",
       "      <th>25%</th>\n",
       "      <th>50%</th>\n",
       "      <th>75%</th>\n",
       "      <th>max</th>\n",
       "    </tr>\n",
       "  </thead>\n",
       "  <tbody>\n",
       "    <tr>\n",
       "      <th>systemloanid</th>\n",
       "      <td>8736.0</td>\n",
       "      <td>3.019810e+08</td>\n",
       "      <td>13430.382682</td>\n",
       "      <td>301958485.0</td>\n",
       "      <td>301969128.0</td>\n",
       "      <td>301980100.0</td>\n",
       "      <td>301993503.5</td>\n",
       "      <td>302004050.0</td>\n",
       "    </tr>\n",
       "    <tr>\n",
       "      <th>loannumber</th>\n",
       "      <td>8736.0</td>\n",
       "      <td>5.172390e+00</td>\n",
       "      <td>3.653360</td>\n",
       "      <td>2.0</td>\n",
       "      <td>2.0</td>\n",
       "      <td>4.0</td>\n",
       "      <td>7.0</td>\n",
       "      <td>27.0</td>\n",
       "    </tr>\n",
       "    <tr>\n",
       "      <th>loanamount</th>\n",
       "      <td>8736.0</td>\n",
       "      <td>1.780907e+04</td>\n",
       "      <td>10749.079230</td>\n",
       "      <td>10000.0</td>\n",
       "      <td>10000.0</td>\n",
       "      <td>10000.0</td>\n",
       "      <td>20000.0</td>\n",
       "      <td>60000.0</td>\n",
       "    </tr>\n",
       "    <tr>\n",
       "      <th>totaldue</th>\n",
       "      <td>8736.0</td>\n",
       "      <td>2.125738e+04</td>\n",
       "      <td>11942.826738</td>\n",
       "      <td>10000.0</td>\n",
       "      <td>13000.0</td>\n",
       "      <td>13000.0</td>\n",
       "      <td>24500.0</td>\n",
       "      <td>68100.0</td>\n",
       "    </tr>\n",
       "    <tr>\n",
       "      <th>termdays</th>\n",
       "      <td>8736.0</td>\n",
       "      <td>2.926168e+01</td>\n",
       "      <td>11.511860</td>\n",
       "      <td>15.0</td>\n",
       "      <td>30.0</td>\n",
       "      <td>30.0</td>\n",
       "      <td>30.0</td>\n",
       "      <td>90.0</td>\n",
       "    </tr>\n",
       "  </tbody>\n",
       "</table>\n",
       "</div>"
      ],
      "text/plain": [
       "               count          mean           std          min          25%  \\\n",
       "systemloanid  8736.0  3.019810e+08  13430.382682  301958485.0  301969128.0   \n",
       "loannumber    8736.0  5.172390e+00      3.653360          2.0          2.0   \n",
       "loanamount    8736.0  1.780907e+04  10749.079230      10000.0      10000.0   \n",
       "totaldue      8736.0  2.125738e+04  11942.826738      10000.0      13000.0   \n",
       "termdays      8736.0  2.926168e+01     11.511860         15.0         30.0   \n",
       "\n",
       "                      50%          75%          max  \n",
       "systemloanid  301980100.0  301993503.5  302004050.0  \n",
       "loannumber            4.0          7.0         27.0  \n",
       "loanamount        10000.0      20000.0      60000.0  \n",
       "totaldue          13000.0      24500.0      68100.0  \n",
       "termdays             30.0         30.0         90.0  "
      ]
     },
     "execution_count": 26,
     "metadata": {},
     "output_type": "execute_result"
    }
   ],
   "source": [
    "df4.describe().T"
   ]
  },
  {
   "cell_type": "code",
   "execution_count": 27,
   "id": "310a07e3-75b4-441d-b978-e1893ebcb444",
   "metadata": {},
   "outputs": [],
   "source": [
    "# df4['approveddate']= pd.to_datetime(df4['approveddate'], errors='coerce')"
   ]
  },
  {
   "cell_type": "code",
   "execution_count": 28,
   "id": "543ce6c1-4d87-4128-a6e3-e2c5d3f16187",
   "metadata": {},
   "outputs": [
    {
     "name": "stdout",
     "output_type": "stream",
     "text": [
      "<class 'pandas.core.frame.DataFrame'>\n",
      "Index: 8736 entries, 0 to 4367\n",
      "Data columns (total 10 columns):\n",
      " #   Column         Non-Null Count  Dtype  \n",
      "---  ------         --------------  -----  \n",
      " 0   customerid     8736 non-null   object \n",
      " 1   systemloanid   8736 non-null   int64  \n",
      " 2   loannumber     8736 non-null   int64  \n",
      " 3   approveddate   8736 non-null   object \n",
      " 4   creationdate   8736 non-null   object \n",
      " 5   loanamount     8736 non-null   float64\n",
      " 6   totaldue       8736 non-null   float64\n",
      " 7   termdays       8736 non-null   int64  \n",
      " 8   referredby     1174 non-null   object \n",
      " 9   good_bad_flag  8736 non-null   object \n",
      "dtypes: float64(2), int64(3), object(5)\n",
      "memory usage: 750.8+ KB\n"
     ]
    }
   ],
   "source": [
    "df4.info()"
   ]
  },
  {
   "cell_type": "code",
   "execution_count": 29,
   "id": "3c1fcf57-4a50-4168-9910-d7373d0e8821",
   "metadata": {},
   "outputs": [],
   "source": [
    "# df4['creationdate']= pd.to_datetime(df4['creationdate'], errors='coerce')"
   ]
  },
  {
   "cell_type": "code",
   "execution_count": 30,
   "id": "2238a697-e489-4232-af82-98b343d7c4cd",
   "metadata": {},
   "outputs": [
    {
     "name": "stdout",
     "output_type": "stream",
     "text": [
      "<class 'pandas.core.frame.DataFrame'>\n",
      "Index: 8736 entries, 0 to 4367\n",
      "Data columns (total 10 columns):\n",
      " #   Column         Non-Null Count  Dtype  \n",
      "---  ------         --------------  -----  \n",
      " 0   customerid     8736 non-null   object \n",
      " 1   systemloanid   8736 non-null   int64  \n",
      " 2   loannumber     8736 non-null   int64  \n",
      " 3   approveddate   8736 non-null   object \n",
      " 4   creationdate   8736 non-null   object \n",
      " 5   loanamount     8736 non-null   float64\n",
      " 6   totaldue       8736 non-null   float64\n",
      " 7   termdays       8736 non-null   int64  \n",
      " 8   referredby     1174 non-null   object \n",
      " 9   good_bad_flag  8736 non-null   object \n",
      "dtypes: float64(2), int64(3), object(5)\n",
      "memory usage: 750.8+ KB\n"
     ]
    }
   ],
   "source": [
    "df4.info()"
   ]
  },
  {
   "cell_type": "code",
   "execution_count": 31,
   "id": "e246ee40-61ba-451d-92af-b8db8ead28ab",
   "metadata": {},
   "outputs": [
    {
     "data": {
      "text/plain": [
       "4368"
      ]
     },
     "execution_count": 31,
     "metadata": {},
     "output_type": "execute_result"
    }
   ],
   "source": [
    "df4.duplicated().sum()"
   ]
  },
  {
   "cell_type": "code",
   "execution_count": 32,
   "id": "1b76ba07-ae55-40aa-b987-246c201282d8",
   "metadata": {},
   "outputs": [
    {
     "name": "stdout",
     "output_type": "stream",
     "text": [
      "<class 'pandas.core.frame.DataFrame'>\n",
      "Index: 8736 entries, 0 to 4367\n",
      "Data columns (total 10 columns):\n",
      " #   Column         Non-Null Count  Dtype  \n",
      "---  ------         --------------  -----  \n",
      " 0   customerid     8736 non-null   object \n",
      " 1   systemloanid   8736 non-null   int64  \n",
      " 2   loannumber     8736 non-null   int64  \n",
      " 3   approveddate   8736 non-null   object \n",
      " 4   creationdate   8736 non-null   object \n",
      " 5   loanamount     8736 non-null   float64\n",
      " 6   totaldue       8736 non-null   float64\n",
      " 7   termdays       8736 non-null   int64  \n",
      " 8   referredby     1174 non-null   object \n",
      " 9   good_bad_flag  8736 non-null   object \n",
      "dtypes: float64(2), int64(3), object(5)\n",
      "memory usage: 750.8+ KB\n"
     ]
    }
   ],
   "source": [
    "df4.info()"
   ]
  },
  {
   "cell_type": "code",
   "execution_count": 33,
   "id": "9739ffbe-2692-4ee1-a55a-97c01536a12a",
   "metadata": {},
   "outputs": [
    {
     "data": {
      "text/html": [
       "<div>\n",
       "<style scoped>\n",
       "    .dataframe tbody tr th:only-of-type {\n",
       "        vertical-align: middle;\n",
       "    }\n",
       "\n",
       "    .dataframe tbody tr th {\n",
       "        vertical-align: top;\n",
       "    }\n",
       "\n",
       "    .dataframe thead th {\n",
       "        text-align: right;\n",
       "    }\n",
       "</style>\n",
       "<table border=\"1\" class=\"dataframe\">\n",
       "  <thead>\n",
       "    <tr style=\"text-align: right;\">\n",
       "      <th></th>\n",
       "      <th>customerid</th>\n",
       "      <th>systemloanid</th>\n",
       "      <th>approveddate</th>\n",
       "      <th>loanamount</th>\n",
       "      <th>totaldue</th>\n",
       "      <th>termdays</th>\n",
       "      <th>good_bad_flag</th>\n",
       "    </tr>\n",
       "  </thead>\n",
       "  <tbody>\n",
       "    <tr>\n",
       "      <th>0</th>\n",
       "      <td>8a2a81a74ce8c05d014cfb32a0da1049</td>\n",
       "      <td>301994762</td>\n",
       "      <td>2017-07-25 08:22:56.000000</td>\n",
       "      <td>30000.0</td>\n",
       "      <td>34500.0</td>\n",
       "      <td>30</td>\n",
       "      <td>Good</td>\n",
       "    </tr>\n",
       "    <tr>\n",
       "      <th>1</th>\n",
       "      <td>8a85886e54beabf90154c0a29ae757c0</td>\n",
       "      <td>301965204</td>\n",
       "      <td>2017-07-05 17:04:41.000000</td>\n",
       "      <td>15000.0</td>\n",
       "      <td>17250.0</td>\n",
       "      <td>30</td>\n",
       "      <td>Good</td>\n",
       "    </tr>\n",
       "    <tr>\n",
       "      <th>2</th>\n",
       "      <td>8a8588f35438fe12015444567666018e</td>\n",
       "      <td>301966580</td>\n",
       "      <td>2017-07-06 14:52:57.000000</td>\n",
       "      <td>20000.0</td>\n",
       "      <td>22250.0</td>\n",
       "      <td>15</td>\n",
       "      <td>Good</td>\n",
       "    </tr>\n",
       "    <tr>\n",
       "      <th>3</th>\n",
       "      <td>8a85890754145ace015429211b513e16</td>\n",
       "      <td>301999343</td>\n",
       "      <td>2017-07-27 19:00:41.000000</td>\n",
       "      <td>10000.0</td>\n",
       "      <td>11500.0</td>\n",
       "      <td>15</td>\n",
       "      <td>Good</td>\n",
       "    </tr>\n",
       "    <tr>\n",
       "      <th>4</th>\n",
       "      <td>8a858970548359cc0154883481981866</td>\n",
       "      <td>301962360</td>\n",
       "      <td>2017-07-03 23:42:45.000000</td>\n",
       "      <td>40000.0</td>\n",
       "      <td>44000.0</td>\n",
       "      <td>30</td>\n",
       "      <td>Good</td>\n",
       "    </tr>\n",
       "  </tbody>\n",
       "</table>\n",
       "</div>"
      ],
      "text/plain": [
       "                         customerid  systemloanid                approveddate  \\\n",
       "0  8a2a81a74ce8c05d014cfb32a0da1049     301994762  2017-07-25 08:22:56.000000   \n",
       "1  8a85886e54beabf90154c0a29ae757c0     301965204  2017-07-05 17:04:41.000000   \n",
       "2  8a8588f35438fe12015444567666018e     301966580  2017-07-06 14:52:57.000000   \n",
       "3  8a85890754145ace015429211b513e16     301999343  2017-07-27 19:00:41.000000   \n",
       "4  8a858970548359cc0154883481981866     301962360  2017-07-03 23:42:45.000000   \n",
       "\n",
       "   loanamount  totaldue  termdays good_bad_flag  \n",
       "0     30000.0   34500.0        30          Good  \n",
       "1     15000.0   17250.0        30          Good  \n",
       "2     20000.0   22250.0        15          Good  \n",
       "3     10000.0   11500.0        15          Good  \n",
       "4     40000.0   44000.0        30          Good  "
      ]
     },
     "execution_count": 33,
     "metadata": {},
     "output_type": "execute_result"
    }
   ],
   "source": [
    "df4_dropped = df4.drop(['loannumber', 'creationdate', 'referredby'], axis=1)\n",
    "df4_dropped.head(5)"
   ]
  },
  {
   "cell_type": "code",
   "execution_count": 34,
   "id": "0444213a-c3bf-48ca-bdf1-043f1bd18f39",
   "metadata": {},
   "outputs": [],
   "source": [
    "#Alright, let's go to df3, clean the data, and do some feature engineering"
   ]
  },
  {
   "cell_type": "code",
   "execution_count": 35,
   "id": "74c08347-daa1-4094-a5f4-799c13a953a9",
   "metadata": {},
   "outputs": [
    {
     "data": {
      "text/html": [
       "<div>\n",
       "<style scoped>\n",
       "    .dataframe tbody tr th:only-of-type {\n",
       "        vertical-align: middle;\n",
       "    }\n",
       "\n",
       "    .dataframe tbody tr th {\n",
       "        vertical-align: top;\n",
       "    }\n",
       "\n",
       "    .dataframe thead th {\n",
       "        text-align: right;\n",
       "    }\n",
       "</style>\n",
       "<table border=\"1\" class=\"dataframe\">\n",
       "  <thead>\n",
       "    <tr style=\"text-align: right;\">\n",
       "      <th></th>\n",
       "      <th>customerid</th>\n",
       "      <th>birthdate</th>\n",
       "      <th>bank_account_type</th>\n",
       "      <th>longitude_gps</th>\n",
       "      <th>latitude_gps</th>\n",
       "      <th>bank_name_clients</th>\n",
       "      <th>bank_branch_clients</th>\n",
       "      <th>employment_status_clients</th>\n",
       "      <th>level_of_education_clients</th>\n",
       "    </tr>\n",
       "  </thead>\n",
       "  <tbody>\n",
       "    <tr>\n",
       "      <th>0</th>\n",
       "      <td>8a858e135cb22031015cbafc76964ebd</td>\n",
       "      <td>1973-10-10 00:00:00.000000</td>\n",
       "      <td>Savings</td>\n",
       "      <td>3.319219</td>\n",
       "      <td>6.528604</td>\n",
       "      <td>GT Bank</td>\n",
       "      <td>NaN</td>\n",
       "      <td>NaN</td>\n",
       "      <td>NaN</td>\n",
       "    </tr>\n",
       "    <tr>\n",
       "      <th>1</th>\n",
       "      <td>8a858e275c7ea5ec015c82482d7c3996</td>\n",
       "      <td>1986-01-21 00:00:00.000000</td>\n",
       "      <td>Savings</td>\n",
       "      <td>3.325598</td>\n",
       "      <td>7.119403</td>\n",
       "      <td>Sterling Bank</td>\n",
       "      <td>NaN</td>\n",
       "      <td>Permanent</td>\n",
       "      <td>NaN</td>\n",
       "    </tr>\n",
       "    <tr>\n",
       "      <th>2</th>\n",
       "      <td>8a858e5b5bd99460015bdc95cd485634</td>\n",
       "      <td>1987-04-01 00:00:00.000000</td>\n",
       "      <td>Savings</td>\n",
       "      <td>5.746100</td>\n",
       "      <td>5.563174</td>\n",
       "      <td>Fidelity Bank</td>\n",
       "      <td>NaN</td>\n",
       "      <td>NaN</td>\n",
       "      <td>NaN</td>\n",
       "    </tr>\n",
       "    <tr>\n",
       "      <th>3</th>\n",
       "      <td>8a858efd5ca70688015cabd1f1e94b55</td>\n",
       "      <td>1991-07-19 00:00:00.000000</td>\n",
       "      <td>Savings</td>\n",
       "      <td>3.362850</td>\n",
       "      <td>6.642485</td>\n",
       "      <td>GT Bank</td>\n",
       "      <td>NaN</td>\n",
       "      <td>Permanent</td>\n",
       "      <td>NaN</td>\n",
       "    </tr>\n",
       "    <tr>\n",
       "      <th>4</th>\n",
       "      <td>8a858e785acd3412015acd48f4920d04</td>\n",
       "      <td>1982-11-22 00:00:00.000000</td>\n",
       "      <td>Savings</td>\n",
       "      <td>8.455332</td>\n",
       "      <td>11.971410</td>\n",
       "      <td>GT Bank</td>\n",
       "      <td>NaN</td>\n",
       "      <td>Permanent</td>\n",
       "      <td>NaN</td>\n",
       "    </tr>\n",
       "  </tbody>\n",
       "</table>\n",
       "</div>"
      ],
      "text/plain": [
       "                         customerid                   birthdate  \\\n",
       "0  8a858e135cb22031015cbafc76964ebd  1973-10-10 00:00:00.000000   \n",
       "1  8a858e275c7ea5ec015c82482d7c3996  1986-01-21 00:00:00.000000   \n",
       "2  8a858e5b5bd99460015bdc95cd485634  1987-04-01 00:00:00.000000   \n",
       "3  8a858efd5ca70688015cabd1f1e94b55  1991-07-19 00:00:00.000000   \n",
       "4  8a858e785acd3412015acd48f4920d04  1982-11-22 00:00:00.000000   \n",
       "\n",
       "  bank_account_type  longitude_gps  latitude_gps bank_name_clients  \\\n",
       "0           Savings       3.319219      6.528604           GT Bank   \n",
       "1           Savings       3.325598      7.119403     Sterling Bank   \n",
       "2           Savings       5.746100      5.563174     Fidelity Bank   \n",
       "3           Savings       3.362850      6.642485           GT Bank   \n",
       "4           Savings       8.455332     11.971410           GT Bank   \n",
       "\n",
       "  bank_branch_clients employment_status_clients level_of_education_clients  \n",
       "0                 NaN                       NaN                        NaN  \n",
       "1                 NaN                 Permanent                        NaN  \n",
       "2                 NaN                       NaN                        NaN  \n",
       "3                 NaN                 Permanent                        NaN  \n",
       "4                 NaN                 Permanent                        NaN  "
      ]
     },
     "execution_count": 35,
     "metadata": {},
     "output_type": "execute_result"
    }
   ],
   "source": [
    "df3.head(5)"
   ]
  },
  {
   "cell_type": "code",
   "execution_count": 36,
   "id": "b047ca88-59c8-407c-b419-a9f02b5ff1b8",
   "metadata": {},
   "outputs": [
    {
     "data": {
      "text/html": [
       "<div>\n",
       "<style scoped>\n",
       "    .dataframe tbody tr th:only-of-type {\n",
       "        vertical-align: middle;\n",
       "    }\n",
       "\n",
       "    .dataframe tbody tr th {\n",
       "        vertical-align: top;\n",
       "    }\n",
       "\n",
       "    .dataframe thead th {\n",
       "        text-align: right;\n",
       "    }\n",
       "</style>\n",
       "<table border=\"1\" class=\"dataframe\">\n",
       "  <thead>\n",
       "    <tr style=\"text-align: right;\">\n",
       "      <th></th>\n",
       "      <th>customerid</th>\n",
       "      <th>birthdate</th>\n",
       "      <th>bank_account_type</th>\n",
       "      <th>employment_status_clients</th>\n",
       "      <th>level_of_education_clients</th>\n",
       "    </tr>\n",
       "  </thead>\n",
       "  <tbody>\n",
       "    <tr>\n",
       "      <th>0</th>\n",
       "      <td>8a858e135cb22031015cbafc76964ebd</td>\n",
       "      <td>1973-10-10 00:00:00.000000</td>\n",
       "      <td>Savings</td>\n",
       "      <td>NaN</td>\n",
       "      <td>NaN</td>\n",
       "    </tr>\n",
       "    <tr>\n",
       "      <th>1</th>\n",
       "      <td>8a858e275c7ea5ec015c82482d7c3996</td>\n",
       "      <td>1986-01-21 00:00:00.000000</td>\n",
       "      <td>Savings</td>\n",
       "      <td>Permanent</td>\n",
       "      <td>NaN</td>\n",
       "    </tr>\n",
       "    <tr>\n",
       "      <th>2</th>\n",
       "      <td>8a858e5b5bd99460015bdc95cd485634</td>\n",
       "      <td>1987-04-01 00:00:00.000000</td>\n",
       "      <td>Savings</td>\n",
       "      <td>NaN</td>\n",
       "      <td>NaN</td>\n",
       "    </tr>\n",
       "    <tr>\n",
       "      <th>3</th>\n",
       "      <td>8a858efd5ca70688015cabd1f1e94b55</td>\n",
       "      <td>1991-07-19 00:00:00.000000</td>\n",
       "      <td>Savings</td>\n",
       "      <td>Permanent</td>\n",
       "      <td>NaN</td>\n",
       "    </tr>\n",
       "    <tr>\n",
       "      <th>4</th>\n",
       "      <td>8a858e785acd3412015acd48f4920d04</td>\n",
       "      <td>1982-11-22 00:00:00.000000</td>\n",
       "      <td>Savings</td>\n",
       "      <td>Permanent</td>\n",
       "      <td>NaN</td>\n",
       "    </tr>\n",
       "  </tbody>\n",
       "</table>\n",
       "</div>"
      ],
      "text/plain": [
       "                         customerid                   birthdate  \\\n",
       "0  8a858e135cb22031015cbafc76964ebd  1973-10-10 00:00:00.000000   \n",
       "1  8a858e275c7ea5ec015c82482d7c3996  1986-01-21 00:00:00.000000   \n",
       "2  8a858e5b5bd99460015bdc95cd485634  1987-04-01 00:00:00.000000   \n",
       "3  8a858efd5ca70688015cabd1f1e94b55  1991-07-19 00:00:00.000000   \n",
       "4  8a858e785acd3412015acd48f4920d04  1982-11-22 00:00:00.000000   \n",
       "\n",
       "  bank_account_type employment_status_clients level_of_education_clients  \n",
       "0           Savings                       NaN                        NaN  \n",
       "1           Savings                 Permanent                        NaN  \n",
       "2           Savings                       NaN                        NaN  \n",
       "3           Savings                 Permanent                        NaN  \n",
       "4           Savings                 Permanent                        NaN  "
      ]
     },
     "execution_count": 36,
     "metadata": {},
     "output_type": "execute_result"
    }
   ],
   "source": [
    "df3_dropped = df3.drop([\"longitude_gps\", \"latitude_gps\", \"bank_name_clients\", \"bank_branch_clients\"], axis=1)\n",
    "df3_dropped.head(5)"
   ]
  },
  {
   "cell_type": "code",
   "execution_count": 37,
   "id": "3a21a625-275b-454f-be3a-3a0862c4ee35",
   "metadata": {},
   "outputs": [
    {
     "data": {
      "text/html": [
       "<div>\n",
       "<style scoped>\n",
       "    .dataframe tbody tr th:only-of-type {\n",
       "        vertical-align: middle;\n",
       "    }\n",
       "\n",
       "    .dataframe tbody tr th {\n",
       "        vertical-align: top;\n",
       "    }\n",
       "\n",
       "    .dataframe thead th {\n",
       "        text-align: right;\n",
       "    }\n",
       "</style>\n",
       "<table border=\"1\" class=\"dataframe\">\n",
       "  <thead>\n",
       "    <tr style=\"text-align: right;\">\n",
       "      <th></th>\n",
       "      <th>customerid</th>\n",
       "      <th>birthdate</th>\n",
       "      <th>bank_account_type</th>\n",
       "      <th>employment_status_clients</th>\n",
       "      <th>level_of_education_clients</th>\n",
       "      <th>birthyear</th>\n",
       "    </tr>\n",
       "  </thead>\n",
       "  <tbody>\n",
       "    <tr>\n",
       "      <th>0</th>\n",
       "      <td>8a858e135cb22031015cbafc76964ebd</td>\n",
       "      <td>1973-10-10 00:00:00.000000</td>\n",
       "      <td>Savings</td>\n",
       "      <td>NaN</td>\n",
       "      <td>NaN</td>\n",
       "      <td>1973</td>\n",
       "    </tr>\n",
       "    <tr>\n",
       "      <th>1</th>\n",
       "      <td>8a858e275c7ea5ec015c82482d7c3996</td>\n",
       "      <td>1986-01-21 00:00:00.000000</td>\n",
       "      <td>Savings</td>\n",
       "      <td>Permanent</td>\n",
       "      <td>NaN</td>\n",
       "      <td>1986</td>\n",
       "    </tr>\n",
       "    <tr>\n",
       "      <th>2</th>\n",
       "      <td>8a858e5b5bd99460015bdc95cd485634</td>\n",
       "      <td>1987-04-01 00:00:00.000000</td>\n",
       "      <td>Savings</td>\n",
       "      <td>NaN</td>\n",
       "      <td>NaN</td>\n",
       "      <td>1987</td>\n",
       "    </tr>\n",
       "    <tr>\n",
       "      <th>3</th>\n",
       "      <td>8a858efd5ca70688015cabd1f1e94b55</td>\n",
       "      <td>1991-07-19 00:00:00.000000</td>\n",
       "      <td>Savings</td>\n",
       "      <td>Permanent</td>\n",
       "      <td>NaN</td>\n",
       "      <td>1991</td>\n",
       "    </tr>\n",
       "    <tr>\n",
       "      <th>4</th>\n",
       "      <td>8a858e785acd3412015acd48f4920d04</td>\n",
       "      <td>1982-11-22 00:00:00.000000</td>\n",
       "      <td>Savings</td>\n",
       "      <td>Permanent</td>\n",
       "      <td>NaN</td>\n",
       "      <td>1982</td>\n",
       "    </tr>\n",
       "  </tbody>\n",
       "</table>\n",
       "</div>"
      ],
      "text/plain": [
       "                         customerid                   birthdate  \\\n",
       "0  8a858e135cb22031015cbafc76964ebd  1973-10-10 00:00:00.000000   \n",
       "1  8a858e275c7ea5ec015c82482d7c3996  1986-01-21 00:00:00.000000   \n",
       "2  8a858e5b5bd99460015bdc95cd485634  1987-04-01 00:00:00.000000   \n",
       "3  8a858efd5ca70688015cabd1f1e94b55  1991-07-19 00:00:00.000000   \n",
       "4  8a858e785acd3412015acd48f4920d04  1982-11-22 00:00:00.000000   \n",
       "\n",
       "  bank_account_type employment_status_clients level_of_education_clients  \\\n",
       "0           Savings                       NaN                        NaN   \n",
       "1           Savings                 Permanent                        NaN   \n",
       "2           Savings                       NaN                        NaN   \n",
       "3           Savings                 Permanent                        NaN   \n",
       "4           Savings                 Permanent                        NaN   \n",
       "\n",
       "   birthyear  \n",
       "0       1973  \n",
       "1       1986  \n",
       "2       1987  \n",
       "3       1991  \n",
       "4       1982  "
      ]
     },
     "execution_count": 37,
     "metadata": {},
     "output_type": "execute_result"
    }
   ],
   "source": [
    "df3_dropped['birthyear'] = pd.to_datetime(df3_dropped['birthdate']).dt.year\n",
    "df3_dropped.head(5)"
   ]
  },
  {
   "cell_type": "code",
   "execution_count": 38,
   "id": "878333c4-0957-48a7-80b5-f8fb85c81699",
   "metadata": {},
   "outputs": [
    {
     "data": {
      "text/html": [
       "<div>\n",
       "<style scoped>\n",
       "    .dataframe tbody tr th:only-of-type {\n",
       "        vertical-align: middle;\n",
       "    }\n",
       "\n",
       "    .dataframe tbody tr th {\n",
       "        vertical-align: top;\n",
       "    }\n",
       "\n",
       "    .dataframe thead th {\n",
       "        text-align: right;\n",
       "    }\n",
       "</style>\n",
       "<table border=\"1\" class=\"dataframe\">\n",
       "  <thead>\n",
       "    <tr style=\"text-align: right;\">\n",
       "      <th></th>\n",
       "      <th>customerid</th>\n",
       "      <th>birthdate</th>\n",
       "      <th>bank_account_type</th>\n",
       "      <th>employment_status_clients</th>\n",
       "      <th>level_of_education_clients</th>\n",
       "      <th>birthyear</th>\n",
       "      <th>age</th>\n",
       "    </tr>\n",
       "  </thead>\n",
       "  <tbody>\n",
       "    <tr>\n",
       "      <th>0</th>\n",
       "      <td>8a858e135cb22031015cbafc76964ebd</td>\n",
       "      <td>1973-10-10 00:00:00.000000</td>\n",
       "      <td>Savings</td>\n",
       "      <td>NaN</td>\n",
       "      <td>NaN</td>\n",
       "      <td>1973</td>\n",
       "      <td>52</td>\n",
       "    </tr>\n",
       "    <tr>\n",
       "      <th>1</th>\n",
       "      <td>8a858e275c7ea5ec015c82482d7c3996</td>\n",
       "      <td>1986-01-21 00:00:00.000000</td>\n",
       "      <td>Savings</td>\n",
       "      <td>Permanent</td>\n",
       "      <td>NaN</td>\n",
       "      <td>1986</td>\n",
       "      <td>39</td>\n",
       "    </tr>\n",
       "    <tr>\n",
       "      <th>2</th>\n",
       "      <td>8a858e5b5bd99460015bdc95cd485634</td>\n",
       "      <td>1987-04-01 00:00:00.000000</td>\n",
       "      <td>Savings</td>\n",
       "      <td>NaN</td>\n",
       "      <td>NaN</td>\n",
       "      <td>1987</td>\n",
       "      <td>38</td>\n",
       "    </tr>\n",
       "    <tr>\n",
       "      <th>3</th>\n",
       "      <td>8a858efd5ca70688015cabd1f1e94b55</td>\n",
       "      <td>1991-07-19 00:00:00.000000</td>\n",
       "      <td>Savings</td>\n",
       "      <td>Permanent</td>\n",
       "      <td>NaN</td>\n",
       "      <td>1991</td>\n",
       "      <td>34</td>\n",
       "    </tr>\n",
       "    <tr>\n",
       "      <th>4</th>\n",
       "      <td>8a858e785acd3412015acd48f4920d04</td>\n",
       "      <td>1982-11-22 00:00:00.000000</td>\n",
       "      <td>Savings</td>\n",
       "      <td>Permanent</td>\n",
       "      <td>NaN</td>\n",
       "      <td>1982</td>\n",
       "      <td>43</td>\n",
       "    </tr>\n",
       "  </tbody>\n",
       "</table>\n",
       "</div>"
      ],
      "text/plain": [
       "                         customerid                   birthdate  \\\n",
       "0  8a858e135cb22031015cbafc76964ebd  1973-10-10 00:00:00.000000   \n",
       "1  8a858e275c7ea5ec015c82482d7c3996  1986-01-21 00:00:00.000000   \n",
       "2  8a858e5b5bd99460015bdc95cd485634  1987-04-01 00:00:00.000000   \n",
       "3  8a858efd5ca70688015cabd1f1e94b55  1991-07-19 00:00:00.000000   \n",
       "4  8a858e785acd3412015acd48f4920d04  1982-11-22 00:00:00.000000   \n",
       "\n",
       "  bank_account_type employment_status_clients level_of_education_clients  \\\n",
       "0           Savings                       NaN                        NaN   \n",
       "1           Savings                 Permanent                        NaN   \n",
       "2           Savings                       NaN                        NaN   \n",
       "3           Savings                 Permanent                        NaN   \n",
       "4           Savings                 Permanent                        NaN   \n",
       "\n",
       "   birthyear  age  \n",
       "0       1973   52  \n",
       "1       1986   39  \n",
       "2       1987   38  \n",
       "3       1991   34  \n",
       "4       1982   43  "
      ]
     },
     "execution_count": 38,
     "metadata": {},
     "output_type": "execute_result"
    }
   ],
   "source": [
    "df3_dropped['age'] = 2025-df3_dropped['birthyear']\n",
    "df3_dropped.head(5)"
   ]
  },
  {
   "cell_type": "code",
   "execution_count": 39,
   "id": "f03a9f5b-e63a-4e65-83e6-55cdc779a121",
   "metadata": {},
   "outputs": [
    {
     "name": "stdout",
     "output_type": "stream",
     "text": [
      "<class 'pandas.core.frame.DataFrame'>\n",
      "RangeIndex: 4346 entries, 0 to 4345\n",
      "Data columns (total 7 columns):\n",
      " #   Column                      Non-Null Count  Dtype \n",
      "---  ------                      --------------  ----- \n",
      " 0   customerid                  4346 non-null   object\n",
      " 1   birthdate                   4346 non-null   object\n",
      " 2   bank_account_type           4346 non-null   object\n",
      " 3   employment_status_clients   3698 non-null   object\n",
      " 4   level_of_education_clients  587 non-null    object\n",
      " 5   birthyear                   4346 non-null   int32 \n",
      " 6   age                         4346 non-null   int32 \n",
      "dtypes: int32(2), object(5)\n",
      "memory usage: 203.8+ KB\n"
     ]
    }
   ],
   "source": [
    "df3_dropped.info()"
   ]
  },
  {
   "cell_type": "code",
   "execution_count": 40,
   "id": "fe050301-89a1-4b11-baed-47dbdde74d4c",
   "metadata": {},
   "outputs": [
    {
     "data": {
      "text/plain": [
       "4368"
      ]
     },
     "execution_count": 40,
     "metadata": {},
     "output_type": "execute_result"
    }
   ],
   "source": [
    "df4_dropped.duplicated().sum()"
   ]
  },
  {
   "cell_type": "code",
   "execution_count": 41,
   "id": "348c3b9b-b01b-41f8-a34d-eeb4d3c6716b",
   "metadata": {},
   "outputs": [
    {
     "data": {
      "text/html": [
       "<div>\n",
       "<style scoped>\n",
       "    .dataframe tbody tr th:only-of-type {\n",
       "        vertical-align: middle;\n",
       "    }\n",
       "\n",
       "    .dataframe tbody tr th {\n",
       "        vertical-align: top;\n",
       "    }\n",
       "\n",
       "    .dataframe thead th {\n",
       "        text-align: right;\n",
       "    }\n",
       "</style>\n",
       "<table border=\"1\" class=\"dataframe\">\n",
       "  <thead>\n",
       "    <tr style=\"text-align: right;\">\n",
       "      <th></th>\n",
       "      <th>customerid</th>\n",
       "      <th>systemloanid</th>\n",
       "      <th>approveddate</th>\n",
       "      <th>loanamount</th>\n",
       "      <th>totaldue</th>\n",
       "      <th>termdays</th>\n",
       "      <th>good_bad_flag</th>\n",
       "      <th>birthdate</th>\n",
       "      <th>bank_account_type</th>\n",
       "      <th>employment_status_clients</th>\n",
       "      <th>level_of_education_clients</th>\n",
       "      <th>birthyear</th>\n",
       "      <th>age</th>\n",
       "    </tr>\n",
       "  </thead>\n",
       "  <tbody>\n",
       "    <tr>\n",
       "      <th>0</th>\n",
       "      <td>8a2a81a74ce8c05d014cfb32a0da1049</td>\n",
       "      <td>301994762</td>\n",
       "      <td>2017-07-25 08:22:56.000000</td>\n",
       "      <td>30000.0</td>\n",
       "      <td>34500.0</td>\n",
       "      <td>30</td>\n",
       "      <td>Good</td>\n",
       "      <td>1972-01-15 00:00:00.000000</td>\n",
       "      <td>Other</td>\n",
       "      <td>Permanent</td>\n",
       "      <td>Post-Graduate</td>\n",
       "      <td>1972.0</td>\n",
       "      <td>53.0</td>\n",
       "    </tr>\n",
       "    <tr>\n",
       "      <th>1</th>\n",
       "      <td>8a85886e54beabf90154c0a29ae757c0</td>\n",
       "      <td>301965204</td>\n",
       "      <td>2017-07-05 17:04:41.000000</td>\n",
       "      <td>15000.0</td>\n",
       "      <td>17250.0</td>\n",
       "      <td>30</td>\n",
       "      <td>Good</td>\n",
       "      <td>1985-08-23 00:00:00.000000</td>\n",
       "      <td>Savings</td>\n",
       "      <td>Permanent</td>\n",
       "      <td>Graduate</td>\n",
       "      <td>1985.0</td>\n",
       "      <td>40.0</td>\n",
       "    </tr>\n",
       "    <tr>\n",
       "      <th>2</th>\n",
       "      <td>8a8588f35438fe12015444567666018e</td>\n",
       "      <td>301966580</td>\n",
       "      <td>2017-07-06 14:52:57.000000</td>\n",
       "      <td>20000.0</td>\n",
       "      <td>22250.0</td>\n",
       "      <td>15</td>\n",
       "      <td>Good</td>\n",
       "      <td>1984-09-18 00:00:00.000000</td>\n",
       "      <td>Other</td>\n",
       "      <td>Permanent</td>\n",
       "      <td>NaN</td>\n",
       "      <td>1984.0</td>\n",
       "      <td>41.0</td>\n",
       "    </tr>\n",
       "    <tr>\n",
       "      <th>3</th>\n",
       "      <td>8a85890754145ace015429211b513e16</td>\n",
       "      <td>301999343</td>\n",
       "      <td>2017-07-27 19:00:41.000000</td>\n",
       "      <td>10000.0</td>\n",
       "      <td>11500.0</td>\n",
       "      <td>15</td>\n",
       "      <td>Good</td>\n",
       "      <td>1977-10-10 00:00:00.000000</td>\n",
       "      <td>Savings</td>\n",
       "      <td>Permanent</td>\n",
       "      <td>NaN</td>\n",
       "      <td>1977.0</td>\n",
       "      <td>48.0</td>\n",
       "    </tr>\n",
       "    <tr>\n",
       "      <th>4</th>\n",
       "      <td>8a858970548359cc0154883481981866</td>\n",
       "      <td>301962360</td>\n",
       "      <td>2017-07-03 23:42:45.000000</td>\n",
       "      <td>40000.0</td>\n",
       "      <td>44000.0</td>\n",
       "      <td>30</td>\n",
       "      <td>Good</td>\n",
       "      <td>1986-09-07 00:00:00.000000</td>\n",
       "      <td>Other</td>\n",
       "      <td>Permanent</td>\n",
       "      <td>Primary</td>\n",
       "      <td>1986.0</td>\n",
       "      <td>39.0</td>\n",
       "    </tr>\n",
       "  </tbody>\n",
       "</table>\n",
       "</div>"
      ],
      "text/plain": [
       "                         customerid  systemloanid                approveddate  \\\n",
       "0  8a2a81a74ce8c05d014cfb32a0da1049     301994762  2017-07-25 08:22:56.000000   \n",
       "1  8a85886e54beabf90154c0a29ae757c0     301965204  2017-07-05 17:04:41.000000   \n",
       "2  8a8588f35438fe12015444567666018e     301966580  2017-07-06 14:52:57.000000   \n",
       "3  8a85890754145ace015429211b513e16     301999343  2017-07-27 19:00:41.000000   \n",
       "4  8a858970548359cc0154883481981866     301962360  2017-07-03 23:42:45.000000   \n",
       "\n",
       "   loanamount  totaldue  termdays good_bad_flag                   birthdate  \\\n",
       "0     30000.0   34500.0        30          Good  1972-01-15 00:00:00.000000   \n",
       "1     15000.0   17250.0        30          Good  1985-08-23 00:00:00.000000   \n",
       "2     20000.0   22250.0        15          Good  1984-09-18 00:00:00.000000   \n",
       "3     10000.0   11500.0        15          Good  1977-10-10 00:00:00.000000   \n",
       "4     40000.0   44000.0        30          Good  1986-09-07 00:00:00.000000   \n",
       "\n",
       "  bank_account_type employment_status_clients level_of_education_clients  \\\n",
       "0             Other                 Permanent              Post-Graduate   \n",
       "1           Savings                 Permanent                   Graduate   \n",
       "2             Other                 Permanent                        NaN   \n",
       "3           Savings                 Permanent                        NaN   \n",
       "4             Other                 Permanent                    Primary   \n",
       "\n",
       "   birthyear   age  \n",
       "0     1972.0  53.0  \n",
       "1     1985.0  40.0  \n",
       "2     1984.0  41.0  \n",
       "3     1977.0  48.0  \n",
       "4     1986.0  39.0  "
      ]
     },
     "execution_count": 41,
     "metadata": {},
     "output_type": "execute_result"
    }
   ],
   "source": [
    "#let's merge the data, then drop duplicates\n",
    "\n",
    "df5 = pd.merge(df4_dropped, df3_dropped, on='customerid', how='left')\n",
    "df5.head(5)\n"
   ]
  },
  {
   "cell_type": "code",
   "execution_count": 42,
   "id": "12ee0c83-28ff-4a05-949c-aa92b09545ef",
   "metadata": {},
   "outputs": [
    {
     "name": "stdout",
     "output_type": "stream",
     "text": [
      "<class 'pandas.core.frame.DataFrame'>\n",
      "RangeIndex: 8752 entries, 0 to 8751\n",
      "Data columns (total 13 columns):\n",
      " #   Column                      Non-Null Count  Dtype  \n",
      "---  ------                      --------------  -----  \n",
      " 0   customerid                  8752 non-null   object \n",
      " 1   systemloanid                8752 non-null   int64  \n",
      " 2   approveddate                8752 non-null   object \n",
      " 3   loanamount                  8752 non-null   float64\n",
      " 4   totaldue                    8752 non-null   float64\n",
      " 5   termdays                    8752 non-null   int64  \n",
      " 6   good_bad_flag               8752 non-null   object \n",
      " 7   birthdate                   6554 non-null   object \n",
      " 8   bank_account_type           6554 non-null   object \n",
      " 9   employment_status_clients   5568 non-null   object \n",
      " 10  level_of_education_clients  886 non-null    object \n",
      " 11  birthyear                   6554 non-null   float64\n",
      " 12  age                         6554 non-null   float64\n",
      "dtypes: float64(4), int64(2), object(7)\n",
      "memory usage: 889.0+ KB\n"
     ]
    }
   ],
   "source": [
    "df5.info()"
   ]
  },
  {
   "cell_type": "code",
   "execution_count": 43,
   "id": "d2eb6bf8-92fa-4788-b2e1-469726242f72",
   "metadata": {},
   "outputs": [
    {
     "data": {
      "text/plain": [
       "customerid                     object\n",
       "systemloanid                    int64\n",
       "approveddate                   object\n",
       "loanamount                    float64\n",
       "totaldue                      float64\n",
       "termdays                        int64\n",
       "good_bad_flag                  object\n",
       "birthdate                      object\n",
       "bank_account_type              object\n",
       "employment_status_clients      object\n",
       "level_of_education_clients     object\n",
       "birthyear                     float64\n",
       "age                           float64\n",
       "dtype: object"
      ]
     },
     "execution_count": 43,
     "metadata": {},
     "output_type": "execute_result"
    }
   ],
   "source": [
    "#let's be sure the data have the correct types\n",
    "df5.dtypes"
   ]
  },
  {
   "cell_type": "code",
   "execution_count": 44,
   "id": "a02077f3-11bd-4a97-ac5b-06fc4b2d8f99",
   "metadata": {},
   "outputs": [],
   "source": [
    "#I forgot to put the birthdate column in the correct datatype (datetime)\n",
    "# df5['birthdate']= pd.to_datetime(df5['birthdate'], errors='coerce')"
   ]
  },
  {
   "cell_type": "code",
   "execution_count": 45,
   "id": "42355e75-456f-460c-9ab2-e37ff3bbd3ca",
   "metadata": {},
   "outputs": [
    {
     "name": "stdout",
     "output_type": "stream",
     "text": [
      "<class 'pandas.core.frame.DataFrame'>\n",
      "RangeIndex: 8752 entries, 0 to 8751\n",
      "Data columns (total 13 columns):\n",
      " #   Column                      Non-Null Count  Dtype  \n",
      "---  ------                      --------------  -----  \n",
      " 0   customerid                  8752 non-null   object \n",
      " 1   systemloanid                8752 non-null   int64  \n",
      " 2   approveddate                8752 non-null   object \n",
      " 3   loanamount                  8752 non-null   float64\n",
      " 4   totaldue                    8752 non-null   float64\n",
      " 5   termdays                    8752 non-null   int64  \n",
      " 6   good_bad_flag               8752 non-null   object \n",
      " 7   birthdate                   6554 non-null   object \n",
      " 8   bank_account_type           6554 non-null   object \n",
      " 9   employment_status_clients   5568 non-null   object \n",
      " 10  level_of_education_clients  886 non-null    object \n",
      " 11  birthyear                   6554 non-null   float64\n",
      " 12  age                         6554 non-null   float64\n",
      "dtypes: float64(4), int64(2), object(7)\n",
      "memory usage: 889.0+ KB\n"
     ]
    }
   ],
   "source": [
    "df5.info()"
   ]
  },
  {
   "cell_type": "code",
   "execution_count": 46,
   "id": "51211f09-2b4a-4b60-931a-27df10256ade",
   "metadata": {},
   "outputs": [
    {
     "data": {
      "text/plain": [
       "<Axes: xlabel='good_bad_flag'>"
      ]
     },
     "execution_count": 46,
     "metadata": {},
     "output_type": "execute_result"
    },
    {
     "data": {
      "image/png": "[encoded data removed]",
      "text/plain": [
       "<Figure size 640x480 with 1 Axes>"
      ]
     },
     "metadata": {},
     "output_type": "display_data"
    }
   ],
   "source": [
    "#our target column is good_bad_flag. Let's plot it first to see if it is balanced\n",
    "df5.good_bad_flag.value_counts().plot(kind='bar')"
   ]
  },
  {
   "cell_type": "code",
   "execution_count": 47,
   "id": "a3525aa0-3212-441a-b0cd-81cea834a003",
   "metadata": {},
   "outputs": [
    {
     "data": {
      "text/plain": [
       "array(['Good', 'Bad'], dtype=object)"
      ]
     },
     "execution_count": 47,
     "metadata": {},
     "output_type": "execute_result"
    }
   ],
   "source": [
    "df5.good_bad_flag.unique()"
   ]
  },
  {
   "cell_type": "code",
   "execution_count": 48,
   "id": "c2dbde8c-2f10-4b55-a0db-f944b2c8a05c",
   "metadata": {},
   "outputs": [],
   "source": [
    "# we notice that we have string as the data type of our target column. We have to convert it to number.\n",
    "#To do this, we use label encoder\n",
    "\n",
    "#in a shorter form, we can convert our text into number\n",
    "\n",
    "#We use label encoder, when we have multiclass, i.e column ABC, more than two. \n",
    "#But if we have just two(one or the other), we can just use convert the text into number\n"
   ]
  },
  {
   "cell_type": "code",
   "execution_count": 49,
   "id": "f2859905-21a6-4dd9-ad2c-2dcfd3262267",
   "metadata": {},
   "outputs": [],
   "source": [
    "#let's convert the text \"good, bad\" into number\n",
    "\n",
    "df5.good_bad_flag = (df5.good_bad_flag == 'Good').astype(int)"
   ]
  },
  {
   "cell_type": "code",
   "execution_count": 50,
   "id": "ba75f0aa-d983-4290-ae20-97f25af32616",
   "metadata": {},
   "outputs": [
    {
     "data": {
      "text/plain": [
       "array([1, 0])"
      ]
     },
     "execution_count": 50,
     "metadata": {},
     "output_type": "execute_result"
    }
   ],
   "source": [
    "df5.good_bad_flag.unique()"
   ]
  },
  {
   "cell_type": "code",
   "execution_count": 51,
   "id": "ccf79491-1b23-4e64-9e90-b48ae038d609",
   "metadata": {},
   "outputs": [
    {
     "data": {
      "text/html": [
       "<div>\n",
       "<style scoped>\n",
       "    .dataframe tbody tr th:only-of-type {\n",
       "        vertical-align: middle;\n",
       "    }\n",
       "\n",
       "    .dataframe tbody tr th {\n",
       "        vertical-align: top;\n",
       "    }\n",
       "\n",
       "    .dataframe thead th {\n",
       "        text-align: right;\n",
       "    }\n",
       "</style>\n",
       "<table border=\"1\" class=\"dataframe\">\n",
       "  <thead>\n",
       "    <tr style=\"text-align: right;\">\n",
       "      <th></th>\n",
       "      <th>customerid</th>\n",
       "      <th>systemloanid</th>\n",
       "      <th>approveddate</th>\n",
       "      <th>loanamount</th>\n",
       "      <th>totaldue</th>\n",
       "      <th>termdays</th>\n",
       "      <th>good_bad_flag</th>\n",
       "      <th>birthdate</th>\n",
       "      <th>bank_account_type</th>\n",
       "      <th>employment_status_clients</th>\n",
       "      <th>level_of_education_clients</th>\n",
       "      <th>birthyear</th>\n",
       "      <th>age</th>\n",
       "    </tr>\n",
       "  </thead>\n",
       "  <tbody>\n",
       "    <tr>\n",
       "      <th>0</th>\n",
       "      <td>8a2a81a74ce8c05d014cfb32a0da1049</td>\n",
       "      <td>301994762</td>\n",
       "      <td>2017-07-25 08:22:56.000000</td>\n",
       "      <td>30000.0</td>\n",
       "      <td>34500.0</td>\n",
       "      <td>30</td>\n",
       "      <td>1</td>\n",
       "      <td>1972-01-15 00:00:00.000000</td>\n",
       "      <td>Other</td>\n",
       "      <td>Permanent</td>\n",
       "      <td>Post-Graduate</td>\n",
       "      <td>1972.0</td>\n",
       "      <td>53.0</td>\n",
       "    </tr>\n",
       "    <tr>\n",
       "      <th>1</th>\n",
       "      <td>8a85886e54beabf90154c0a29ae757c0</td>\n",
       "      <td>301965204</td>\n",
       "      <td>2017-07-05 17:04:41.000000</td>\n",
       "      <td>15000.0</td>\n",
       "      <td>17250.0</td>\n",
       "      <td>30</td>\n",
       "      <td>1</td>\n",
       "      <td>1985-08-23 00:00:00.000000</td>\n",
       "      <td>Savings</td>\n",
       "      <td>Permanent</td>\n",
       "      <td>Graduate</td>\n",
       "      <td>1985.0</td>\n",
       "      <td>40.0</td>\n",
       "    </tr>\n",
       "    <tr>\n",
       "      <th>2</th>\n",
       "      <td>8a8588f35438fe12015444567666018e</td>\n",
       "      <td>301966580</td>\n",
       "      <td>2017-07-06 14:52:57.000000</td>\n",
       "      <td>20000.0</td>\n",
       "      <td>22250.0</td>\n",
       "      <td>15</td>\n",
       "      <td>1</td>\n",
       "      <td>1984-09-18 00:00:00.000000</td>\n",
       "      <td>Other</td>\n",
       "      <td>Permanent</td>\n",
       "      <td>NaN</td>\n",
       "      <td>1984.0</td>\n",
       "      <td>41.0</td>\n",
       "    </tr>\n",
       "    <tr>\n",
       "      <th>3</th>\n",
       "      <td>8a85890754145ace015429211b513e16</td>\n",
       "      <td>301999343</td>\n",
       "      <td>2017-07-27 19:00:41.000000</td>\n",
       "      <td>10000.0</td>\n",
       "      <td>11500.0</td>\n",
       "      <td>15</td>\n",
       "      <td>1</td>\n",
       "      <td>1977-10-10 00:00:00.000000</td>\n",
       "      <td>Savings</td>\n",
       "      <td>Permanent</td>\n",
       "      <td>NaN</td>\n",
       "      <td>1977.0</td>\n",
       "      <td>48.0</td>\n",
       "    </tr>\n",
       "    <tr>\n",
       "      <th>4</th>\n",
       "      <td>8a858970548359cc0154883481981866</td>\n",
       "      <td>301962360</td>\n",
       "      <td>2017-07-03 23:42:45.000000</td>\n",
       "      <td>40000.0</td>\n",
       "      <td>44000.0</td>\n",
       "      <td>30</td>\n",
       "      <td>1</td>\n",
       "      <td>1986-09-07 00:00:00.000000</td>\n",
       "      <td>Other</td>\n",
       "      <td>Permanent</td>\n",
       "      <td>Primary</td>\n",
       "      <td>1986.0</td>\n",
       "      <td>39.0</td>\n",
       "    </tr>\n",
       "  </tbody>\n",
       "</table>\n",
       "</div>"
      ],
      "text/plain": [
       "                         customerid  systemloanid                approveddate  \\\n",
       "0  8a2a81a74ce8c05d014cfb32a0da1049     301994762  2017-07-25 08:22:56.000000   \n",
       "1  8a85886e54beabf90154c0a29ae757c0     301965204  2017-07-05 17:04:41.000000   \n",
       "2  8a8588f35438fe12015444567666018e     301966580  2017-07-06 14:52:57.000000   \n",
       "3  8a85890754145ace015429211b513e16     301999343  2017-07-27 19:00:41.000000   \n",
       "4  8a858970548359cc0154883481981866     301962360  2017-07-03 23:42:45.000000   \n",
       "\n",
       "   loanamount  totaldue  termdays  good_bad_flag                   birthdate  \\\n",
       "0     30000.0   34500.0        30              1  1972-01-15 00:00:00.000000   \n",
       "1     15000.0   17250.0        30              1  1985-08-23 00:00:00.000000   \n",
       "2     20000.0   22250.0        15              1  1984-09-18 00:00:00.000000   \n",
       "3     10000.0   11500.0        15              1  1977-10-10 00:00:00.000000   \n",
       "4     40000.0   44000.0        30              1  1986-09-07 00:00:00.000000   \n",
       "\n",
       "  bank_account_type employment_status_clients level_of_education_clients  \\\n",
       "0             Other                 Permanent              Post-Graduate   \n",
       "1           Savings                 Permanent                   Graduate   \n",
       "2             Other                 Permanent                        NaN   \n",
       "3           Savings                 Permanent                        NaN   \n",
       "4             Other                 Permanent                    Primary   \n",
       "\n",
       "   birthyear   age  \n",
       "0     1972.0  53.0  \n",
       "1     1985.0  40.0  \n",
       "2     1984.0  41.0  \n",
       "3     1977.0  48.0  \n",
       "4     1986.0  39.0  "
      ]
     },
     "execution_count": 51,
     "metadata": {},
     "output_type": "execute_result"
    }
   ],
   "source": [
    "df5.head(5)"
   ]
  },
  {
   "cell_type": "code",
   "execution_count": 52,
   "id": "569577c4-a3d5-4f80-8268-d42757927d55",
   "metadata": {},
   "outputs": [],
   "source": [
    "#So we can now see that good has benn converted to 1 and bad to 0"
   ]
  },
  {
   "cell_type": "code",
   "execution_count": null,
   "id": "4174f038-e1b1-4b96-bb86-d8051df83b4c",
   "metadata": {},
   "outputs": [],
   "source": []
  },
  {
   "cell_type": "code",
   "execution_count": null,
   "id": "f339b83b-4ccb-4d38-8791-b6ce87f132d4",
   "metadata": {},
   "outputs": [],
   "source": []
  },
  {
   "cell_type": "code",
   "execution_count": 53,
   "id": "d7d8fa14-51e1-46a7-bc1c-b07872aa18cd",
   "metadata": {},
   "outputs": [],
   "source": [
    "#we will have to drop the column 'level of education clients'.\n",
    "#This is because the data available is 10 percent compared to the whole data. \n",
    "#If we want to even fill the data, it wont give you the correct outcome since\n",
    "#you are filling 90% of the data with assumed values. So we are dropping it"
   ]
  },
  {
   "cell_type": "code",
   "execution_count": 54,
   "id": "8eff04bd-7177-4c5e-a766-fa106aeb9756",
   "metadata": {},
   "outputs": [
    {
     "data": {
      "text/html": [
       "<div>\n",
       "<style scoped>\n",
       "    .dataframe tbody tr th:only-of-type {\n",
       "        vertical-align: middle;\n",
       "    }\n",
       "\n",
       "    .dataframe tbody tr th {\n",
       "        vertical-align: top;\n",
       "    }\n",
       "\n",
       "    .dataframe thead th {\n",
       "        text-align: right;\n",
       "    }\n",
       "</style>\n",
       "<table border=\"1\" class=\"dataframe\">\n",
       "  <thead>\n",
       "    <tr style=\"text-align: right;\">\n",
       "      <th></th>\n",
       "      <th>customerid</th>\n",
       "      <th>systemloanid</th>\n",
       "      <th>approveddate</th>\n",
       "      <th>loanamount</th>\n",
       "      <th>totaldue</th>\n",
       "      <th>termdays</th>\n",
       "      <th>good_bad_flag</th>\n",
       "      <th>birthdate</th>\n",
       "      <th>bank_account_type</th>\n",
       "      <th>employment_status_clients</th>\n",
       "      <th>birthyear</th>\n",
       "      <th>age</th>\n",
       "    </tr>\n",
       "  </thead>\n",
       "  <tbody>\n",
       "    <tr>\n",
       "      <th>0</th>\n",
       "      <td>8a2a81a74ce8c05d014cfb32a0da1049</td>\n",
       "      <td>301994762</td>\n",
       "      <td>2017-07-25 08:22:56.000000</td>\n",
       "      <td>30000.0</td>\n",
       "      <td>34500.0</td>\n",
       "      <td>30</td>\n",
       "      <td>1</td>\n",
       "      <td>1972-01-15 00:00:00.000000</td>\n",
       "      <td>Other</td>\n",
       "      <td>Permanent</td>\n",
       "      <td>1972.0</td>\n",
       "      <td>53.0</td>\n",
       "    </tr>\n",
       "    <tr>\n",
       "      <th>1</th>\n",
       "      <td>8a85886e54beabf90154c0a29ae757c0</td>\n",
       "      <td>301965204</td>\n",
       "      <td>2017-07-05 17:04:41.000000</td>\n",
       "      <td>15000.0</td>\n",
       "      <td>17250.0</td>\n",
       "      <td>30</td>\n",
       "      <td>1</td>\n",
       "      <td>1985-08-23 00:00:00.000000</td>\n",
       "      <td>Savings</td>\n",
       "      <td>Permanent</td>\n",
       "      <td>1985.0</td>\n",
       "      <td>40.0</td>\n",
       "    </tr>\n",
       "    <tr>\n",
       "      <th>2</th>\n",
       "      <td>8a8588f35438fe12015444567666018e</td>\n",
       "      <td>301966580</td>\n",
       "      <td>2017-07-06 14:52:57.000000</td>\n",
       "      <td>20000.0</td>\n",
       "      <td>22250.0</td>\n",
       "      <td>15</td>\n",
       "      <td>1</td>\n",
       "      <td>1984-09-18 00:00:00.000000</td>\n",
       "      <td>Other</td>\n",
       "      <td>Permanent</td>\n",
       "      <td>1984.0</td>\n",
       "      <td>41.0</td>\n",
       "    </tr>\n",
       "    <tr>\n",
       "      <th>3</th>\n",
       "      <td>8a85890754145ace015429211b513e16</td>\n",
       "      <td>301999343</td>\n",
       "      <td>2017-07-27 19:00:41.000000</td>\n",
       "      <td>10000.0</td>\n",
       "      <td>11500.0</td>\n",
       "      <td>15</td>\n",
       "      <td>1</td>\n",
       "      <td>1977-10-10 00:00:00.000000</td>\n",
       "      <td>Savings</td>\n",
       "      <td>Permanent</td>\n",
       "      <td>1977.0</td>\n",
       "      <td>48.0</td>\n",
       "    </tr>\n",
       "    <tr>\n",
       "      <th>4</th>\n",
       "      <td>8a858970548359cc0154883481981866</td>\n",
       "      <td>301962360</td>\n",
       "      <td>2017-07-03 23:42:45.000000</td>\n",
       "      <td>40000.0</td>\n",
       "      <td>44000.0</td>\n",
       "      <td>30</td>\n",
       "      <td>1</td>\n",
       "      <td>1986-09-07 00:00:00.000000</td>\n",
       "      <td>Other</td>\n",
       "      <td>Permanent</td>\n",
       "      <td>1986.0</td>\n",
       "      <td>39.0</td>\n",
       "    </tr>\n",
       "  </tbody>\n",
       "</table>\n",
       "</div>"
      ],
      "text/plain": [
       "                         customerid  systemloanid                approveddate  \\\n",
       "0  8a2a81a74ce8c05d014cfb32a0da1049     301994762  2017-07-25 08:22:56.000000   \n",
       "1  8a85886e54beabf90154c0a29ae757c0     301965204  2017-07-05 17:04:41.000000   \n",
       "2  8a8588f35438fe12015444567666018e     301966580  2017-07-06 14:52:57.000000   \n",
       "3  8a85890754145ace015429211b513e16     301999343  2017-07-27 19:00:41.000000   \n",
       "4  8a858970548359cc0154883481981866     301962360  2017-07-03 23:42:45.000000   \n",
       "\n",
       "   loanamount  totaldue  termdays  good_bad_flag                   birthdate  \\\n",
       "0     30000.0   34500.0        30              1  1972-01-15 00:00:00.000000   \n",
       "1     15000.0   17250.0        30              1  1985-08-23 00:00:00.000000   \n",
       "2     20000.0   22250.0        15              1  1984-09-18 00:00:00.000000   \n",
       "3     10000.0   11500.0        15              1  1977-10-10 00:00:00.000000   \n",
       "4     40000.0   44000.0        30              1  1986-09-07 00:00:00.000000   \n",
       "\n",
       "  bank_account_type employment_status_clients  birthyear   age  \n",
       "0             Other                 Permanent     1972.0  53.0  \n",
       "1           Savings                 Permanent     1985.0  40.0  \n",
       "2             Other                 Permanent     1984.0  41.0  \n",
       "3           Savings                 Permanent     1977.0  48.0  \n",
       "4             Other                 Permanent     1986.0  39.0  "
      ]
     },
     "execution_count": 54,
     "metadata": {},
     "output_type": "execute_result"
    }
   ],
   "source": [
    "df5 = df5.drop(['level_of_education_clients'], axis = 1)\n",
    "df5.head(5)"
   ]
  },
  {
   "cell_type": "code",
   "execution_count": 55,
   "id": "ff2a005d-da74-4a21-abd8-665ac44e8046",
   "metadata": {},
   "outputs": [],
   "source": [
    "#let's drop birthdate and the birthyear column since we already have the age column."
   ]
  },
  {
   "cell_type": "code",
   "execution_count": 56,
   "id": "bd1ac939-a1a9-4619-b370-41b88603ae7b",
   "metadata": {},
   "outputs": [
    {
     "data": {
      "text/plain": [
       "Index(['customerid', 'systemloanid', 'approveddate', 'loanamount', 'totaldue',\n",
       "       'termdays', 'good_bad_flag', 'birthdate', 'bank_account_type',\n",
       "       'employment_status_clients', 'birthyear', 'age'],\n",
       "      dtype='object')"
      ]
     },
     "execution_count": 56,
     "metadata": {},
     "output_type": "execute_result"
    }
   ],
   "source": [
    "df5.columns"
   ]
  },
  {
   "cell_type": "code",
   "execution_count": 57,
   "id": "92e7fb65-0841-449e-86ef-27ee54334850",
   "metadata": {},
   "outputs": [
    {
     "data": {
      "text/html": [
       "<div>\n",
       "<style scoped>\n",
       "    .dataframe tbody tr th:only-of-type {\n",
       "        vertical-align: middle;\n",
       "    }\n",
       "\n",
       "    .dataframe tbody tr th {\n",
       "        vertical-align: top;\n",
       "    }\n",
       "\n",
       "    .dataframe thead th {\n",
       "        text-align: right;\n",
       "    }\n",
       "</style>\n",
       "<table border=\"1\" class=\"dataframe\">\n",
       "  <thead>\n",
       "    <tr style=\"text-align: right;\">\n",
       "      <th></th>\n",
       "      <th>customerid</th>\n",
       "      <th>systemloanid</th>\n",
       "      <th>approveddate</th>\n",
       "      <th>loanamount</th>\n",
       "      <th>totaldue</th>\n",
       "      <th>termdays</th>\n",
       "      <th>good_bad_flag</th>\n",
       "      <th>bank_account_type</th>\n",
       "      <th>employment_status_clients</th>\n",
       "      <th>age</th>\n",
       "    </tr>\n",
       "  </thead>\n",
       "  <tbody>\n",
       "    <tr>\n",
       "      <th>0</th>\n",
       "      <td>8a2a81a74ce8c05d014cfb32a0da1049</td>\n",
       "      <td>301994762</td>\n",
       "      <td>2017-07-25 08:22:56.000000</td>\n",
       "      <td>30000.0</td>\n",
       "      <td>34500.0</td>\n",
       "      <td>30</td>\n",
       "      <td>1</td>\n",
       "      <td>Other</td>\n",
       "      <td>Permanent</td>\n",
       "      <td>53.0</td>\n",
       "    </tr>\n",
       "    <tr>\n",
       "      <th>1</th>\n",
       "      <td>8a85886e54beabf90154c0a29ae757c0</td>\n",
       "      <td>301965204</td>\n",
       "      <td>2017-07-05 17:04:41.000000</td>\n",
       "      <td>15000.0</td>\n",
       "      <td>17250.0</td>\n",
       "      <td>30</td>\n",
       "      <td>1</td>\n",
       "      <td>Savings</td>\n",
       "      <td>Permanent</td>\n",
       "      <td>40.0</td>\n",
       "    </tr>\n",
       "    <tr>\n",
       "      <th>2</th>\n",
       "      <td>8a8588f35438fe12015444567666018e</td>\n",
       "      <td>301966580</td>\n",
       "      <td>2017-07-06 14:52:57.000000</td>\n",
       "      <td>20000.0</td>\n",
       "      <td>22250.0</td>\n",
       "      <td>15</td>\n",
       "      <td>1</td>\n",
       "      <td>Other</td>\n",
       "      <td>Permanent</td>\n",
       "      <td>41.0</td>\n",
       "    </tr>\n",
       "    <tr>\n",
       "      <th>3</th>\n",
       "      <td>8a85890754145ace015429211b513e16</td>\n",
       "      <td>301999343</td>\n",
       "      <td>2017-07-27 19:00:41.000000</td>\n",
       "      <td>10000.0</td>\n",
       "      <td>11500.0</td>\n",
       "      <td>15</td>\n",
       "      <td>1</td>\n",
       "      <td>Savings</td>\n",
       "      <td>Permanent</td>\n",
       "      <td>48.0</td>\n",
       "    </tr>\n",
       "    <tr>\n",
       "      <th>4</th>\n",
       "      <td>8a858970548359cc0154883481981866</td>\n",
       "      <td>301962360</td>\n",
       "      <td>2017-07-03 23:42:45.000000</td>\n",
       "      <td>40000.0</td>\n",
       "      <td>44000.0</td>\n",
       "      <td>30</td>\n",
       "      <td>1</td>\n",
       "      <td>Other</td>\n",
       "      <td>Permanent</td>\n",
       "      <td>39.0</td>\n",
       "    </tr>\n",
       "  </tbody>\n",
       "</table>\n",
       "</div>"
      ],
      "text/plain": [
       "                         customerid  systemloanid                approveddate  \\\n",
       "0  8a2a81a74ce8c05d014cfb32a0da1049     301994762  2017-07-25 08:22:56.000000   \n",
       "1  8a85886e54beabf90154c0a29ae757c0     301965204  2017-07-05 17:04:41.000000   \n",
       "2  8a8588f35438fe12015444567666018e     301966580  2017-07-06 14:52:57.000000   \n",
       "3  8a85890754145ace015429211b513e16     301999343  2017-07-27 19:00:41.000000   \n",
       "4  8a858970548359cc0154883481981866     301962360  2017-07-03 23:42:45.000000   \n",
       "\n",
       "   loanamount  totaldue  termdays  good_bad_flag bank_account_type  \\\n",
       "0     30000.0   34500.0        30              1             Other   \n",
       "1     15000.0   17250.0        30              1           Savings   \n",
       "2     20000.0   22250.0        15              1             Other   \n",
       "3     10000.0   11500.0        15              1           Savings   \n",
       "4     40000.0   44000.0        30              1             Other   \n",
       "\n",
       "  employment_status_clients   age  \n",
       "0                 Permanent  53.0  \n",
       "1                 Permanent  40.0  \n",
       "2                 Permanent  41.0  \n",
       "3                 Permanent  48.0  \n",
       "4                 Permanent  39.0  "
      ]
     },
     "execution_count": 57,
     "metadata": {},
     "output_type": "execute_result"
    }
   ],
   "source": [
    "df5= df5.drop(['birthdate', 'birthyear'], axis=1)\n",
    "df5.head()"
   ]
  },
  {
   "cell_type": "code",
   "execution_count": 58,
   "id": "da2486db-726a-4944-8394-2328708f87e2",
   "metadata": {},
   "outputs": [
    {
     "name": "stderr",
     "output_type": "stream",
     "text": [
      "C:\\Users\\user\\AppData\\Local\\Temp\\ipykernel_5260\\3937562335.py:2: FutureWarning: A value is trying to be set on a copy of a DataFrame or Series through chained assignment using an inplace method.\n",
      "The behavior will change in pandas 3.0. This inplace method will never work because the intermediate object on which we are setting values always behaves as a copy.\n",
      "\n",
      "For example, when doing 'df[col].method(value, inplace=True)', try using 'df.method({col: value}, inplace=True)' or df[col] = df[col].method(value) instead, to perform the operation inplace on the original object.\n",
      "\n",
      "\n",
      "  df5['age'].fillna(df5['age'].mean(), inplace=True)\n"
     ]
    }
   ],
   "source": [
    "#let's fill the missing values in the age column with the mean\n",
    "df5['age'].fillna(df5['age'].mean(), inplace=True)\n",
    "warnings.filterwarnings('ignore')"
   ]
  },
  {
   "cell_type": "code",
   "execution_count": 59,
   "id": "b18ecabc-385a-4001-8995-b03ba920827f",
   "metadata": {},
   "outputs": [
    {
     "name": "stdout",
     "output_type": "stream",
     "text": [
      "<class 'pandas.core.frame.DataFrame'>\n",
      "RangeIndex: 8752 entries, 0 to 8751\n",
      "Data columns (total 10 columns):\n",
      " #   Column                     Non-Null Count  Dtype  \n",
      "---  ------                     --------------  -----  \n",
      " 0   customerid                 8752 non-null   object \n",
      " 1   systemloanid               8752 non-null   int64  \n",
      " 2   approveddate               8752 non-null   object \n",
      " 3   loanamount                 8752 non-null   float64\n",
      " 4   totaldue                   8752 non-null   float64\n",
      " 5   termdays                   8752 non-null   int64  \n",
      " 6   good_bad_flag              8752 non-null   int32  \n",
      " 7   bank_account_type          6554 non-null   object \n",
      " 8   employment_status_clients  5568 non-null   object \n",
      " 9   age                        8752 non-null   float64\n",
      "dtypes: float64(3), int32(1), int64(2), object(4)\n",
      "memory usage: 649.7+ KB\n"
     ]
    }
   ],
   "source": [
    "df5.info()"
   ]
  },
  {
   "cell_type": "code",
   "execution_count": 60,
   "id": "9e65ec14-2167-4657-b101-d27fbf1b4c25",
   "metadata": {},
   "outputs": [
    {
     "data": {
      "text/plain": [
       "4384"
      ]
     },
     "execution_count": 60,
     "metadata": {},
     "output_type": "execute_result"
    }
   ],
   "source": [
    "df5.duplicated().sum()"
   ]
  },
  {
   "cell_type": "code",
   "execution_count": 61,
   "id": "4b869c8b-4be5-4c01-8580-c66d1bf20ab4",
   "metadata": {},
   "outputs": [],
   "source": [
    "#let's drop duplicates\n",
    "df5= df5.drop_duplicates()"
   ]
  },
  {
   "cell_type": "code",
   "execution_count": null,
   "id": "2c6ca997-3112-47c0-8504-8db87d433f51",
   "metadata": {},
   "outputs": [],
   "source": []
  },
  {
   "cell_type": "code",
   "execution_count": 62,
   "id": "13f1c09b-db08-4ac2-83d9-1104185476cb",
   "metadata": {},
   "outputs": [],
   "source": [
    "df5['bank_account_type'].fillna(method='ffill', inplace=True)\n",
    "df5['employment_status_clients'].fillna(method='ffill', inplace=True)"
   ]
  },
  {
   "cell_type": "code",
   "execution_count": 63,
   "id": "3ac4a1b6-55d1-4d6f-a59a-20a9d5cdf39f",
   "metadata": {},
   "outputs": [
    {
     "name": "stdout",
     "output_type": "stream",
     "text": [
      "<class 'pandas.core.frame.DataFrame'>\n",
      "Index: 4368 entries, 0 to 4375\n",
      "Data columns (total 10 columns):\n",
      " #   Column                     Non-Null Count  Dtype  \n",
      "---  ------                     --------------  -----  \n",
      " 0   customerid                 4368 non-null   object \n",
      " 1   systemloanid               4368 non-null   int64  \n",
      " 2   approveddate               4368 non-null   object \n",
      " 3   loanamount                 4368 non-null   float64\n",
      " 4   totaldue                   4368 non-null   float64\n",
      " 5   termdays                   4368 non-null   int64  \n",
      " 6   good_bad_flag              4368 non-null   int32  \n",
      " 7   bank_account_type          4368 non-null   object \n",
      " 8   employment_status_clients  4368 non-null   object \n",
      " 9   age                        4368 non-null   float64\n",
      "dtypes: float64(3), int32(1), int64(2), object(4)\n",
      "memory usage: 358.3+ KB\n"
     ]
    }
   ],
   "source": [
    "df5.info()"
   ]
  },
  {
   "cell_type": "markdown",
   "id": "515f52aa-c25c-4503-9871-1bf80e16559b",
   "metadata": {},
   "source": [
    "### Data Preparation"
   ]
  },
  {
   "cell_type": "code",
   "execution_count": 65,
   "id": "044aa631-8fe9-4153-92ee-53e34d4ad025",
   "metadata": {},
   "outputs": [],
   "source": [
    "#the next step is to divide our dataset into train and test sets. \n",
    "#We train the model with the\n",
    "#train set and then use the trained model to predict the outcome of the test set"
   ]
  },
  {
   "cell_type": "code",
   "execution_count": null,
   "id": "2dffda49-0f90-472f-9c71-c049b05471a3",
   "metadata": {},
   "outputs": [],
   "source": []
  },
  {
   "cell_type": "code",
   "execution_count": 66,
   "id": "cdd79aad-df73-4c72-bff2-36267e0e53e0",
   "metadata": {},
   "outputs": [
    {
     "data": {
      "text/plain": [
       "Index(['customerid', 'systemloanid', 'approveddate', 'loanamount', 'totaldue',\n",
       "       'termdays', 'good_bad_flag', 'bank_account_type',\n",
       "       'employment_status_clients', 'age'],\n",
       "      dtype='object')"
      ]
     },
     "execution_count": 66,
     "metadata": {},
     "output_type": "execute_result"
    }
   ],
   "source": [
    "#let's see our available columnns\n",
    "df5.columns"
   ]
  },
  {
   "cell_type": "code",
   "execution_count": 67,
   "id": "6026573d-a8e8-4eb7-bcf9-60e331a24aec",
   "metadata": {},
   "outputs": [],
   "source": [
    "#let's divide into X and y\n",
    "X= df5.drop(columns=['customerid','systemloanid','good_bad_flag'])\n",
    "y= df5['good_bad_flag']"
   ]
  },
  {
   "cell_type": "code",
   "execution_count": 68,
   "id": "d7b8c71a-0025-449f-ade9-1ab8b6d2eb9d",
   "metadata": {},
   "outputs": [],
   "source": [
    "#now, let's import sklearn so we can have our train and test dataset"
   ]
  },
  {
   "cell_type": "code",
   "execution_count": 69,
   "id": "75279b0b-9f20-40a7-bd9c-9f6871a6034b",
   "metadata": {},
   "outputs": [],
   "source": [
    "from sklearn.model_selection import train_test_split"
   ]
  },
  {
   "cell_type": "code",
   "execution_count": 70,
   "id": "9fd2e19e-fefb-4b4f-95b8-9e0dd1249949",
   "metadata": {},
   "outputs": [],
   "source": [
    "#lets split into training and test data\n",
    "\n",
    "X_train, X_test, y_train, y_test = train_test_split(X , y, test_size=0.2, random_state=42, stratify=y)"
   ]
  },
  {
   "cell_type": "code",
   "execution_count": 71,
   "id": "2ad4f7be-7cf1-46a4-9c75-fbf998d35f6d",
   "metadata": {},
   "outputs": [],
   "source": [
    "#next we scale the numerical column and encode the categorical columns using Data preprocessing"
   ]
  },
  {
   "cell_type": "markdown",
   "id": "05f66bac-372d-453c-977d-aa92d54364b8",
   "metadata": {},
   "source": [
    "### Data Processing"
   ]
  },
  {
   "cell_type": "code",
   "execution_count": 73,
   "id": "62cd2ae7-8231-4dd6-af57-4af202db5ccb",
   "metadata": {},
   "outputs": [],
   "source": [
    "#split into num_col and cat_col\n",
    "\n",
    "num_cols = X.select_dtypes(include=np.number).columns.tolist()\n",
    "cat_cols = X.select_dtypes(include= 'object').columns.tolist()\n"
   ]
  },
  {
   "cell_type": "code",
   "execution_count": 74,
   "id": "21331021-f75a-493b-8010-ca575eaacc59",
   "metadata": {},
   "outputs": [
    {
     "name": "stdout",
     "output_type": "stream",
     "text": [
      "<class 'pandas.core.frame.DataFrame'>\n",
      "Index: 4368 entries, 0 to 4375\n",
      "Data columns (total 10 columns):\n",
      " #   Column                     Non-Null Count  Dtype  \n",
      "---  ------                     --------------  -----  \n",
      " 0   customerid                 4368 non-null   object \n",
      " 1   systemloanid               4368 non-null   int64  \n",
      " 2   approveddate               4368 non-null   object \n",
      " 3   loanamount                 4368 non-null   float64\n",
      " 4   totaldue                   4368 non-null   float64\n",
      " 5   termdays                   4368 non-null   int64  \n",
      " 6   good_bad_flag              4368 non-null   int32  \n",
      " 7   bank_account_type          4368 non-null   object \n",
      " 8   employment_status_clients  4368 non-null   object \n",
      " 9   age                        4368 non-null   float64\n",
      "dtypes: float64(3), int32(1), int64(2), object(4)\n",
      "memory usage: 358.3+ KB\n"
     ]
    }
   ],
   "source": [
    "df5.info()"
   ]
  },
  {
   "cell_type": "code",
   "execution_count": 75,
   "id": "8d3979ae-fe84-4780-bd8f-cf346c61ef81",
   "metadata": {},
   "outputs": [
    {
     "data": {
      "text/plain": [
       "['loanamount', 'totaldue', 'termdays', 'age']"
      ]
     },
     "execution_count": 75,
     "metadata": {},
     "output_type": "execute_result"
    }
   ],
   "source": [
    "num_cols"
   ]
  },
  {
   "cell_type": "code",
   "execution_count": 76,
   "id": "53463ebf-a1b4-4ff5-a21a-4f49c1084d29",
   "metadata": {},
   "outputs": [
    {
     "data": {
      "text/plain": [
       "['approveddate', 'bank_account_type', 'employment_status_clients']"
      ]
     },
     "execution_count": 76,
     "metadata": {},
     "output_type": "execute_result"
    }
   ],
   "source": [
    "cat_cols"
   ]
  },
  {
   "cell_type": "code",
   "execution_count": null,
   "id": "1d9c2dba-5674-4af4-bbe1-9ac2e4de17af",
   "metadata": {},
   "outputs": [],
   "source": []
  },
  {
   "cell_type": "markdown",
   "id": "6e284455-f3c1-490f-9bfe-c005d657ebb5",
   "metadata": {},
   "source": [
    "### Encoding the categorical columns"
   ]
  },
  {
   "cell_type": "code",
   "execution_count": 78,
   "id": "211170a1-a26c-415c-93f4-5972b458cb71",
   "metadata": {},
   "outputs": [],
   "source": [
    "from sklearn.preprocessing import OneHotEncoder, StandardScaler"
   ]
  },
  {
   "cell_type": "code",
   "execution_count": 79,
   "id": "cf671b70-f038-4eea-87c9-23bd172196ab",
   "metadata": {},
   "outputs": [],
   "source": [
    "encoder = OneHotEncoder(sparse_output=False).fit(df5[cat_cols])"
   ]
  },
  {
   "cell_type": "code",
   "execution_count": null,
   "id": "a845e0e1-b214-4f1d-8710-f11acda8bafd",
   "metadata": {},
   "outputs": [],
   "source": [
    "#now let's see our encoded columns\n",
    "\n",
    "encoded_cols = list(encoder.get_feature_names_out(cat_cols))\n",
    "encoded_cols"
   ]
  },
  {
   "cell_type": "code",
   "execution_count": 81,
   "id": "e957178a-b55f-4fa3-b10a-6aaf0d161340",
   "metadata": {},
   "outputs": [],
   "source": [
    "#let's fit it on the trainn and test cat cols\n",
    "X_train[encoded_cols]= encoder.transform(X_train[cat_cols])\n",
    "X_test[encoded_cols]= encoder.transform(X_test[cat_cols])"
   ]
  },
  {
   "cell_type": "code",
   "execution_count": 82,
   "id": "2e06189e-83f3-473a-8d15-89990880915a",
   "metadata": {},
   "outputs": [],
   "source": [
    "#next let's scale our numeric columns"
   ]
  },
  {
   "cell_type": "markdown",
   "id": "78df083a-bbfc-4bdf-9d82-47d8b01672c9",
   "metadata": {},
   "source": [
    "### Scaling the numerical columns"
   ]
  },
  {
   "cell_type": "code",
   "execution_count": 84,
   "id": "921c6ed8-9968-490b-a540-b8171b6636d9",
   "metadata": {},
   "outputs": [],
   "source": [
    "scaler = StandardScaler()"
   ]
  },
  {
   "cell_type": "code",
   "execution_count": 85,
   "id": "ac3c17a4-f13d-4f69-ad59-cc16ed236d58",
   "metadata": {},
   "outputs": [],
   "source": [
    "#let's fit in the train and test for the num columns\n",
    "X_train[num_cols]= scaler.fit_transform(X_train[num_cols])\n",
    "X_test[num_cols]= scaler.fit_transform(X_test[num_cols])"
   ]
  },
  {
   "cell_type": "code",
   "execution_count": 86,
   "id": "e6d0b9a6-ef27-4813-b380-11e4eec71fc8",
   "metadata": {},
   "outputs": [],
   "source": [
    "#next, we combine the scaled numerical columns with the encoded categorical columns\n",
    "X_train = X_train[num_cols + encoded_cols]\n",
    "X_test = X_test[num_cols + encoded_cols]"
   ]
  },
  {
   "cell_type": "code",
   "execution_count": 87,
   "id": "4de14022-ae6a-4381-8a3a-3fdde301aadd",
   "metadata": {},
   "outputs": [],
   "source": [
    "#next, let's train the model"
   ]
  },
  {
   "cell_type": "markdown",
   "id": "2579912d-a177-4477-9d4d-60a1ce95f742",
   "metadata": {},
   "source": [
    "### Training the model"
   ]
  },
  {
   "cell_type": "code",
   "execution_count": 89,
   "id": "eda8c9e0-c25c-4545-b0d1-7cf13b155218",
   "metadata": {},
   "outputs": [],
   "source": [
    "from sklearn.linear_model import LogisticRegression"
   ]
  },
  {
   "cell_type": "code",
   "execution_count": 90,
   "id": "7f628cca-8532-4914-ba6a-8bead6f91ca6",
   "metadata": {},
   "outputs": [],
   "source": [
    "model = LogisticRegression()"
   ]
  },
  {
   "cell_type": "code",
   "execution_count": 91,
   "id": "ef4926d8-ac52-4f7b-b54a-8463edf7265f",
   "metadata": {},
   "outputs": [
    {
     "data": {
      "text/html": [
       "<style>#sk-container-id-1 {\n",
       "  /* Definition of color scheme common for light and dark mode */\n",
       "  --sklearn-color-text: black;\n",
       "  --sklearn-color-line: gray;\n",
       "  /* Definition of color scheme for unfitted estimators */\n",
       "  --sklearn-color-unfitted-level-0: #fff5e6;\n",
       "  --sklearn-color-unfitted-level-1: #f6e4d2;\n",
       "  --sklearn-color-unfitted-level-2: #ffe0b3;\n",
       "  --sklearn-color-unfitted-level-3: chocolate;\n",
       "  /* Definition of color scheme for fitted estimators */\n",
       "  --sklearn-color-fitted-level-0: #f0f8ff;\n",
       "  --sklearn-color-fitted-level-1: #d4ebff;\n",
       "  --sklearn-color-fitted-level-2: #b3dbfd;\n",
       "  --sklearn-color-fitted-level-3: cornflowerblue;\n",
       "\n",
       "  /* Specific color for light theme */\n",
       "  --sklearn-color-text-on-default-background: var(--sg-text-color, var(--theme-code-foreground, var(--jp-content-font-color1, black)));\n",
       "  --sklearn-color-background: var(--sg-background-color, var(--theme-background, var(--jp-layout-color0, white)));\n",
       "  --sklearn-color-border-box: var(--sg-text-color, var(--theme-code-foreground, var(--jp-content-font-color1, black)));\n",
       "  --sklearn-color-icon: #696969;\n",
       "\n",
       "  @media (prefers-color-scheme: dark) {\n",
       "    /* Redefinition of color scheme for dark theme */\n",
       "    --sklearn-color-text-on-default-background: var(--sg-text-color, var(--theme-code-foreground, var(--jp-content-font-color1, white)));\n",
       "    --sklearn-color-background: var(--sg-background-color, var(--theme-background, var(--jp-layout-color0, #111)));\n",
       "    --sklearn-color-border-box: var(--sg-text-color, var(--theme-code-foreground, var(--jp-content-font-color1, white)));\n",
       "    --sklearn-color-icon: #878787;\n",
       "  }\n",
       "}\n",
       "\n",
       "#sk-container-id-1 {\n",
       "  color: var(--sklearn-color-text);\n",
       "}\n",
       "\n",
       "#sk-container-id-1 pre {\n",
       "  padding: 0;\n",
       "}\n",
       "\n",
       "#sk-container-id-1 input.sk-hidden--visually {\n",
       "  border: 0;\n",
       "  clip: rect(1px 1px 1px 1px);\n",
       "  clip: rect(1px, 1px, 1px, 1px);\n",
       "  height: 1px;\n",
       "  margin: -1px;\n",
       "  overflow: hidden;\n",
       "  padding: 0;\n",
       "  position: absolute;\n",
       "  width: 1px;\n",
       "}\n",
       "\n",
       "#sk-container-id-1 div.sk-dashed-wrapped {\n",
       "  border: 1px dashed var(--sklearn-color-line);\n",
       "  margin: 0 0.4em 0.5em 0.4em;\n",
       "  box-sizing: border-box;\n",
       "  padding-bottom: 0.4em;\n",
       "  background-color: var(--sklearn-color-background);\n",
       "}\n",
       "\n",
       "#sk-container-id-1 div.sk-container {\n",
       "  /* jupyter's `normalize.less` sets `[hidden] { display: none; }`\n",
       "     but bootstrap.min.css set `[hidden] { display: none !important; }`\n",
       "     so we also need the `!important` here to be able to override the\n",
       "     default hidden behavior on the sphinx rendered scikit-learn.org.\n",
       "     See: https://github.com/scikit-learn/scikit-learn/issues/21755 */\n",
       "  display: inline-block !important;\n",
       "  position: relative;\n",
       "}\n",
       "\n",
       "#sk-container-id-1 div.sk-text-repr-fallback {\n",
       "  display: none;\n",
       "}\n",
       "\n",
       "div.sk-parallel-item,\n",
       "div.sk-serial,\n",
       "div.sk-item {\n",
       "  /* draw centered vertical line to link estimators */\n",
       "  background-image: linear-gradient(var(--sklearn-color-text-on-default-background), var(--sklearn-color-text-on-default-background));\n",
       "  background-size: 2px 100%;\n",
       "  background-repeat: no-repeat;\n",
       "  background-position: center center;\n",
       "}\n",
       "\n",
       "/* Parallel-specific style estimator block */\n",
       "\n",
       "#sk-container-id-1 div.sk-parallel-item::after {\n",
       "  content: \"\";\n",
       "  width: 100%;\n",
       "  border-bottom: 2px solid var(--sklearn-color-text-on-default-background);\n",
       "  flex-grow: 1;\n",
       "}\n",
       "\n",
       "#sk-container-id-1 div.sk-parallel {\n",
       "  display: flex;\n",
       "  align-items: stretch;\n",
       "  justify-content: center;\n",
       "  background-color: var(--sklearn-color-background);\n",
       "  position: relative;\n",
       "}\n",
       "\n",
       "#sk-container-id-1 div.sk-parallel-item {\n",
       "  display: flex;\n",
       "  flex-direction: column;\n",
       "}\n",
       "\n",
       "#sk-container-id-1 div.sk-parallel-item:first-child::after {\n",
       "  align-self: flex-end;\n",
       "  width: 50%;\n",
       "}\n",
       "\n",
       "#sk-container-id-1 div.sk-parallel-item:last-child::after {\n",
       "  align-self: flex-start;\n",
       "  width: 50%;\n",
       "}\n",
       "\n",
       "#sk-container-id-1 div.sk-parallel-item:only-child::after {\n",
       "  width: 0;\n",
       "}\n",
       "\n",
       "/* Serial-specific style estimator block */\n",
       "\n",
       "#sk-container-id-1 div.sk-serial {\n",
       "  display: flex;\n",
       "  flex-direction: column;\n",
       "  align-items: center;\n",
       "  background-color: var(--sklearn-color-background);\n",
       "  padding-right: 1em;\n",
       "  padding-left: 1em;\n",
       "}\n",
       "\n",
       "\n",
       "/* Toggleable style: style used for estimator/Pipeline/ColumnTransformer box that is\n",
       "clickable and can be expanded/collapsed.\n",
       "- Pipeline and ColumnTransformer use this feature and define the default style\n",
       "- Estimators will overwrite some part of the style using the `sk-estimator` class\n",
       "*/\n",
       "\n",
       "/* Pipeline and ColumnTransformer style (default) */\n",
       "\n",
       "#sk-container-id-1 div.sk-toggleable {\n",
       "  /* Default theme specific background. It is overwritten whether we have a\n",
       "  specific estimator or a Pipeline/ColumnTransformer */\n",
       "  background-color: var(--sklearn-color-background);\n",
       "}\n",
       "\n",
       "/* Toggleable label */\n",
       "#sk-container-id-1 label.sk-toggleable__label {\n",
       "  cursor: pointer;\n",
       "  display: block;\n",
       "  width: 100%;\n",
       "  margin-bottom: 0;\n",
       "  padding: 0.5em;\n",
       "  box-sizing: border-box;\n",
       "  text-align: center;\n",
       "}\n",
       "\n",
       "#sk-container-id-1 label.sk-toggleable__label-arrow:before {\n",
       "  /* Arrow on the left of the label */\n",
       "  content: \"▸\";\n",
       "  float: left;\n",
       "  margin-right: 0.25em;\n",
       "  color: var(--sklearn-color-icon);\n",
       "}\n",
       "\n",
       "#sk-container-id-1 label.sk-toggleable__label-arrow:hover:before {\n",
       "  color: var(--sklearn-color-text);\n",
       "}\n",
       "\n",
       "/* Toggleable content - dropdown */\n",
       "\n",
       "#sk-container-id-1 div.sk-toggleable__content {\n",
       "  max-height: 0;\n",
       "  max-width: 0;\n",
       "  overflow: hidden;\n",
       "  text-align: left;\n",
       "  /* unfitted */\n",
       "  background-color: var(--sklearn-color-unfitted-level-0);\n",
       "}\n",
       "\n",
       "#sk-container-id-1 div.sk-toggleable__content.fitted {\n",
       "  /* fitted */\n",
       "  background-color: var(--sklearn-color-fitted-level-0);\n",
       "}\n",
       "\n",
       "#sk-container-id-1 div.sk-toggleable__content pre {\n",
       "  margin: 0.2em;\n",
       "  border-radius: 0.25em;\n",
       "  color: var(--sklearn-color-text);\n",
       "  /* unfitted */\n",
       "  background-color: var(--sklearn-color-unfitted-level-0);\n",
       "}\n",
       "\n",
       "#sk-container-id-1 div.sk-toggleable__content.fitted pre {\n",
       "  /* unfitted */\n",
       "  background-color: var(--sklearn-color-fitted-level-0);\n",
       "}\n",
       "\n",
       "#sk-container-id-1 input.sk-toggleable__control:checked~div.sk-toggleable__content {\n",
       "  /* Expand drop-down */\n",
       "  max-height: 200px;\n",
       "  max-width: 100%;\n",
       "  overflow: auto;\n",
       "}\n",
       "\n",
       "#sk-container-id-1 input.sk-toggleable__control:checked~label.sk-toggleable__label-arrow:before {\n",
       "  content: \"▾\";\n",
       "}\n",
       "\n",
       "/* Pipeline/ColumnTransformer-specific style */\n",
       "\n",
       "#sk-container-id-1 div.sk-label input.sk-toggleable__control:checked~label.sk-toggleable__label {\n",
       "  color: var(--sklearn-color-text);\n",
       "  background-color: var(--sklearn-color-unfitted-level-2);\n",
       "}\n",
       "\n",
       "#sk-container-id-1 div.sk-label.fitted input.sk-toggleable__control:checked~label.sk-toggleable__label {\n",
       "  background-color: var(--sklearn-color-fitted-level-2);\n",
       "}\n",
       "\n",
       "/* Estimator-specific style */\n",
       "\n",
       "/* Colorize estimator box */\n",
       "#sk-container-id-1 div.sk-estimator input.sk-toggleable__control:checked~label.sk-toggleable__label {\n",
       "  /* unfitted */\n",
       "  background-color: var(--sklearn-color-unfitted-level-2);\n",
       "}\n",
       "\n",
       "#sk-container-id-1 div.sk-estimator.fitted input.sk-toggleable__control:checked~label.sk-toggleable__label {\n",
       "  /* fitted */\n",
       "  background-color: var(--sklearn-color-fitted-level-2);\n",
       "}\n",
       "\n",
       "#sk-container-id-1 div.sk-label label.sk-toggleable__label,\n",
       "#sk-container-id-1 div.sk-label label {\n",
       "  /* The background is the default theme color */\n",
       "  color: var(--sklearn-color-text-on-default-background);\n",
       "}\n",
       "\n",
       "/* On hover, darken the color of the background */\n",
       "#sk-container-id-1 div.sk-label:hover label.sk-toggleable__label {\n",
       "  color: var(--sklearn-color-text);\n",
       "  background-color: var(--sklearn-color-unfitted-level-2);\n",
       "}\n",
       "\n",
       "/* Label box, darken color on hover, fitted */\n",
       "#sk-container-id-1 div.sk-label.fitted:hover label.sk-toggleable__label.fitted {\n",
       "  color: var(--sklearn-color-text);\n",
       "  background-color: var(--sklearn-color-fitted-level-2);\n",
       "}\n",
       "\n",
       "/* Estimator label */\n",
       "\n",
       "#sk-container-id-1 div.sk-label label {\n",
       "  font-family: monospace;\n",
       "  font-weight: bold;\n",
       "  display: inline-block;\n",
       "  line-height: 1.2em;\n",
       "}\n",
       "\n",
       "#sk-container-id-1 div.sk-label-container {\n",
       "  text-align: center;\n",
       "}\n",
       "\n",
       "/* Estimator-specific */\n",
       "#sk-container-id-1 div.sk-estimator {\n",
       "  font-family: monospace;\n",
       "  border: 1px dotted var(--sklearn-color-border-box);\n",
       "  border-radius: 0.25em;\n",
       "  box-sizing: border-box;\n",
       "  margin-bottom: 0.5em;\n",
       "  /* unfitted */\n",
       "  background-color: var(--sklearn-color-unfitted-level-0);\n",
       "}\n",
       "\n",
       "#sk-container-id-1 div.sk-estimator.fitted {\n",
       "  /* fitted */\n",
       "  background-color: var(--sklearn-color-fitted-level-0);\n",
       "}\n",
       "\n",
       "/* on hover */\n",
       "#sk-container-id-1 div.sk-estimator:hover {\n",
       "  /* unfitted */\n",
       "  background-color: var(--sklearn-color-unfitted-level-2);\n",
       "}\n",
       "\n",
       "#sk-container-id-1 div.sk-estimator.fitted:hover {\n",
       "  /* fitted */\n",
       "  background-color: var(--sklearn-color-fitted-level-2);\n",
       "}\n",
       "\n",
       "/* Specification for estimator info (e.g. \"i\" and \"?\") */\n",
       "\n",
       "/* Common style for \"i\" and \"?\" */\n",
       "\n",
       ".sk-estimator-doc-link,\n",
       "a:link.sk-estimator-doc-link,\n",
       "a:visited.sk-estimator-doc-link {\n",
       "  float: right;\n",
       "  font-size: smaller;\n",
       "  line-height: 1em;\n",
       "  font-family: monospace;\n",
       "  background-color: var(--sklearn-color-background);\n",
       "  border-radius: 1em;\n",
       "  height: 1em;\n",
       "  width: 1em;\n",
       "  text-decoration: none !important;\n",
       "  margin-left: 1ex;\n",
       "  /* unfitted */\n",
       "  border: var(--sklearn-color-unfitted-level-1) 1pt solid;\n",
       "  color: var(--sklearn-color-unfitted-level-1);\n",
       "}\n",
       "\n",
       ".sk-estimator-doc-link.fitted,\n",
       "a:link.sk-estimator-doc-link.fitted,\n",
       "a:visited.sk-estimator-doc-link.fitted {\n",
       "  /* fitted */\n",
       "  border: var(--sklearn-color-fitted-level-1) 1pt solid;\n",
       "  color: var(--sklearn-color-fitted-level-1);\n",
       "}\n",
       "\n",
       "/* On hover */\n",
       "div.sk-estimator:hover .sk-estimator-doc-link:hover,\n",
       ".sk-estimator-doc-link:hover,\n",
       "div.sk-label-container:hover .sk-estimator-doc-link:hover,\n",
       ".sk-estimator-doc-link:hover {\n",
       "  /* unfitted */\n",
       "  background-color: var(--sklearn-color-unfitted-level-3);\n",
       "  color: var(--sklearn-color-background);\n",
       "  text-decoration: none;\n",
       "}\n",
       "\n",
       "div.sk-estimator.fitted:hover .sk-estimator-doc-link.fitted:hover,\n",
       ".sk-estimator-doc-link.fitted:hover,\n",
       "div.sk-label-container:hover .sk-estimator-doc-link.fitted:hover,\n",
       ".sk-estimator-doc-link.fitted:hover {\n",
       "  /* fitted */\n",
       "  background-color: var(--sklearn-color-fitted-level-3);\n",
       "  color: var(--sklearn-color-background);\n",
       "  text-decoration: none;\n",
       "}\n",
       "\n",
       "/* Span, style for the box shown on hovering the info icon */\n",
       ".sk-estimator-doc-link span {\n",
       "  display: none;\n",
       "  z-index: 9999;\n",
       "  position: relative;\n",
       "  font-weight: normal;\n",
       "  right: .2ex;\n",
       "  padding: .5ex;\n",
       "  margin: .5ex;\n",
       "  width: min-content;\n",
       "  min-width: 20ex;\n",
       "  max-width: 50ex;\n",
       "  color: var(--sklearn-color-text);\n",
       "  box-shadow: 2pt 2pt 4pt #999;\n",
       "  /* unfitted */\n",
       "  background: var(--sklearn-color-unfitted-level-0);\n",
       "  border: .5pt solid var(--sklearn-color-unfitted-level-3);\n",
       "}\n",
       "\n",
       ".sk-estimator-doc-link.fitted span {\n",
       "  /* fitted */\n",
       "  background: var(--sklearn-color-fitted-level-0);\n",
       "  border: var(--sklearn-color-fitted-level-3);\n",
       "}\n",
       "\n",
       ".sk-estimator-doc-link:hover span {\n",
       "  display: block;\n",
       "}\n",
       "\n",
       "/* \"?\"-specific style due to the `<a>` HTML tag */\n",
       "\n",
       "#sk-container-id-1 a.estimator_doc_link {\n",
       "  float: right;\n",
       "  font-size: 1rem;\n",
       "  line-height: 1em;\n",
       "  font-family: monospace;\n",
       "  background-color: var(--sklearn-color-background);\n",
       "  border-radius: 1rem;\n",
       "  height: 1rem;\n",
       "  width: 1rem;\n",
       "  text-decoration: none;\n",
       "  /* unfitted */\n",
       "  color: var(--sklearn-color-unfitted-level-1);\n",
       "  border: var(--sklearn-color-unfitted-level-1) 1pt solid;\n",
       "}\n",
       "\n",
       "#sk-container-id-1 a.estimator_doc_link.fitted {\n",
       "  /* fitted */\n",
       "  border: var(--sklearn-color-fitted-level-1) 1pt solid;\n",
       "  color: var(--sklearn-color-fitted-level-1);\n",
       "}\n",
       "\n",
       "/* On hover */\n",
       "#sk-container-id-1 a.estimator_doc_link:hover {\n",
       "  /* unfitted */\n",
       "  background-color: var(--sklearn-color-unfitted-level-3);\n",
       "  color: var(--sklearn-color-background);\n",
       "  text-decoration: none;\n",
       "}\n",
       "\n",
       "#sk-container-id-1 a.estimator_doc_link.fitted:hover {\n",
       "  /* fitted */\n",
       "  background-color: var(--sklearn-color-fitted-level-3);\n",
       "}\n",
       "</style><div id=\"sk-container-id-1\" class=\"sk-top-container\"><div class=\"sk-text-repr-fallback\"><pre>LogisticRegression()</pre><b>In a Jupyter environment, please rerun this cell to show the HTML representation or trust the notebook. <br />On GitHub, the HTML representation is unable to render, please try loading this page with nbviewer.org.</b></div><div class=\"sk-container\" hidden><div class=\"sk-item\"><div class=\"sk-estimator fitted sk-toggleable\"><input class=\"sk-toggleable__control sk-hidden--visually\" id=\"sk-estimator-id-1\" type=\"checkbox\" checked><label for=\"sk-estimator-id-1\" class=\"sk-toggleable__label fitted sk-toggleable__label-arrow fitted\">&nbsp;&nbsp;LogisticRegression<a class=\"sk-estimator-doc-link fitted\" rel=\"noreferrer\" target=\"_blank\" href=\"https://scikit-learn.org/1.5/modules/generated/sklearn.linear_model.LogisticRegression.html\">?<span>Documentation for LogisticRegression</span></a><span class=\"sk-estimator-doc-link fitted\">i<span>Fitted</span></span></label><div class=\"sk-toggleable__content fitted\"><pre>LogisticRegression()</pre></div> </div></div></div></div>"
      ],
      "text/plain": [
       "LogisticRegression()"
      ]
     },
     "execution_count": 91,
     "metadata": {},
     "output_type": "execute_result"
    }
   ],
   "source": [
    "model.fit(X_train, y_train)"
   ]
  },
  {
   "cell_type": "code",
   "execution_count": 92,
   "id": "796215fe-50d5-46df-a1e9-bb37e07203fc",
   "metadata": {},
   "outputs": [],
   "source": [
    "#next, let's use the trained model to make prediction on the\n",
    "#trained data and the test data"
   ]
  },
  {
   "cell_type": "code",
   "execution_count": 93,
   "id": "2650d5df-3d0b-4fee-bdc8-624d8d444c78",
   "metadata": {},
   "outputs": [],
   "source": [
    "train_pred = model.predict(X_train)\n",
    "test_pred = model.predict(X_test)"
   ]
  },
  {
   "cell_type": "code",
   "execution_count": 94,
   "id": "d1f26ecb-9c44-41bb-89fb-2230ab7c8140",
   "metadata": {},
   "outputs": [],
   "source": [
    "#next, evaluation of the model\n",
    "data = pd.DataFrame()\n",
    "data['Actual']= y_train\n",
    "data['Prediction'] = train_pred\n",
    "#let's create a column called correct to check if the data of the actual column\n",
    "#is equal to the data of the predicted column\n",
    "data['Correct'] = data['Actual'] == data['Prediction']"
   ]
  },
  {
   "cell_type": "code",
   "execution_count": 95,
   "id": "e1c83164-8507-4a33-a629-fdd82300e6c8",
   "metadata": {},
   "outputs": [
    {
     "data": {
      "text/html": [
       "<div>\n",
       "<style scoped>\n",
       "    .dataframe tbody tr th:only-of-type {\n",
       "        vertical-align: middle;\n",
       "    }\n",
       "\n",
       "    .dataframe tbody tr th {\n",
       "        vertical-align: top;\n",
       "    }\n",
       "\n",
       "    .dataframe thead th {\n",
       "        text-align: right;\n",
       "    }\n",
       "</style>\n",
       "<table border=\"1\" class=\"dataframe\">\n",
       "  <thead>\n",
       "    <tr style=\"text-align: right;\">\n",
       "      <th></th>\n",
       "      <th>Actual</th>\n",
       "      <th>Prediction</th>\n",
       "      <th>Correct</th>\n",
       "    </tr>\n",
       "  </thead>\n",
       "  <tbody>\n",
       "    <tr>\n",
       "      <th>96</th>\n",
       "      <td>1</td>\n",
       "      <td>1</td>\n",
       "      <td>True</td>\n",
       "    </tr>\n",
       "    <tr>\n",
       "      <th>2320</th>\n",
       "      <td>1</td>\n",
       "      <td>1</td>\n",
       "      <td>True</td>\n",
       "    </tr>\n",
       "    <tr>\n",
       "      <th>509</th>\n",
       "      <td>1</td>\n",
       "      <td>1</td>\n",
       "      <td>True</td>\n",
       "    </tr>\n",
       "    <tr>\n",
       "      <th>422</th>\n",
       "      <td>1</td>\n",
       "      <td>1</td>\n",
       "      <td>True</td>\n",
       "    </tr>\n",
       "    <tr>\n",
       "      <th>861</th>\n",
       "      <td>1</td>\n",
       "      <td>1</td>\n",
       "      <td>True</td>\n",
       "    </tr>\n",
       "    <tr>\n",
       "      <th>2258</th>\n",
       "      <td>1</td>\n",
       "      <td>1</td>\n",
       "      <td>True</td>\n",
       "    </tr>\n",
       "    <tr>\n",
       "      <th>1934</th>\n",
       "      <td>1</td>\n",
       "      <td>1</td>\n",
       "      <td>True</td>\n",
       "    </tr>\n",
       "    <tr>\n",
       "      <th>2688</th>\n",
       "      <td>1</td>\n",
       "      <td>1</td>\n",
       "      <td>True</td>\n",
       "    </tr>\n",
       "    <tr>\n",
       "      <th>3752</th>\n",
       "      <td>1</td>\n",
       "      <td>1</td>\n",
       "      <td>True</td>\n",
       "    </tr>\n",
       "    <tr>\n",
       "      <th>1630</th>\n",
       "      <td>1</td>\n",
       "      <td>1</td>\n",
       "      <td>True</td>\n",
       "    </tr>\n",
       "  </tbody>\n",
       "</table>\n",
       "</div>"
      ],
      "text/plain": [
       "      Actual  Prediction  Correct\n",
       "96         1           1     True\n",
       "2320       1           1     True\n",
       "509        1           1     True\n",
       "422        1           1     True\n",
       "861        1           1     True\n",
       "2258       1           1     True\n",
       "1934       1           1     True\n",
       "2688       1           1     True\n",
       "3752       1           1     True\n",
       "1630       1           1     True"
      ]
     },
     "execution_count": 95,
     "metadata": {},
     "output_type": "execute_result"
    }
   ],
   "source": [
    "data.sample(10)"
   ]
  },
  {
   "cell_type": "code",
   "execution_count": 96,
   "id": "27734c7f-72ca-455f-bcd5-89d258465b6b",
   "metadata": {},
   "outputs": [
    {
     "data": {
      "text/plain": [
       "Correct\n",
       "True     2740\n",
       "False     754\n",
       "Name: count, dtype: int64"
      ]
     },
     "execution_count": 96,
     "metadata": {},
     "output_type": "execute_result"
    }
   ],
   "source": [
    "data.Correct.value_counts()"
   ]
  },
  {
   "cell_type": "markdown",
   "id": "aa63f1ba-b76e-48c8-96d8-c3fcf02d4b12",
   "metadata": {},
   "source": [
    "### Using several models"
   ]
  },
  {
   "cell_type": "code",
   "execution_count": 98,
   "id": "0d8c2bc2-9278-40f3-abf0-639cd82538e6",
   "metadata": {},
   "outputs": [],
   "source": [
    "!pip install -q xgboost\n",
    "#import the models\n",
    "from sklearn.linear_model import LogisticRegression\n",
    "from sklearn.tree import DecisionTreeClassifier\n",
    "from sklearn.ensemble import RandomForestClassifier\n",
    "from sklearn.ensemble import GradientBoostingClassifier\n",
    "import xgboost as xgb\n",
    "\n",
    "#import the metrics\n",
    "from sklearn.metrics import (accuracy_score, confusion_matrix, ConfusionMatrixDisplay, classification_report, precision_score, recall_score, f1_score)"
   ]
  },
  {
   "cell_type": "code",
   "execution_count": 99,
   "id": "99c5dd1e-6f12-46f1-b1cc-832eae5babd2",
   "metadata": {},
   "outputs": [],
   "source": [
    "#use several models\n",
    "#let's use two or three\n",
    "models = {\n",
    "    \"Logistic Regression\": LogisticRegression(),\n",
    "    \"Decision Tree\": DecisionTreeClassifier(random_state=42),\n",
    "    \"Random Forest\" : RandomForestClassifier(random_state=42),\n",
    "    \"Gradient Boost\": GradientBoostingClassifier(random_state=2),\n",
    "    'XGBoost': xgb.XGBClassifier()\n",
    "}"
   ]
  },
  {
   "cell_type": "code",
   "execution_count": 100,
   "id": "e25874c9-d710-40b6-8b1e-aae6358e6dbc",
   "metadata": {},
   "outputs": [
    {
     "data": {
      "image/png": "[encoded data removed]",
      "text/plain": [
       "<Figure size 1800x400 with 10 Axes>"
      ]
     },
     "metadata": {},
     "output_type": "display_data"
    },
    {
     "name": "stdout",
     "output_type": "stream",
     "text": [
      "\n",
      "Classification Metrics\n",
      "                     Train Accuracy  Test Accuracy  Precision Score  \\\n",
      "Logistic Regression          0.7842         0.7826           1.0000   \n",
      "Decision Tree                1.0000         0.7838           1.0000   \n",
      "Random Forest                1.0000         0.7826           0.9985   \n",
      "Gradient Boost               0.7819         0.7826           1.0000   \n",
      "XGBoost                      0.7971         0.7574           0.9576   \n",
      "\n",
      "                     Recall Score  \n",
      "Logistic Regression        0.7826  \n",
      "Decision Tree              0.7835  \n",
      "Random Forest              0.7833  \n",
      "Gradient Boost             0.7826  \n",
      "XGBoost                    0.7816  \n"
     ]
    }
   ],
   "source": [
    "#using for loop to evaluate our models\n",
    "#let's use a dictionary, to create an empty list and then put each model in it\n",
    "\n",
    "results = {}\n",
    "fig, axes = plt.subplots(1, 5, figsize=(18,4))\n",
    "\n",
    "for (name, model), ax in zip(models.items(), axes.flatten()): \n",
    "    #training the model\n",
    "    model.fit(X_train, y_train)\n",
    "    \n",
    "    #next, we want to evaluate our training score and test score\n",
    "    train_pred = model.predict(X_train)\n",
    "    test_pred = model.predict(X_test)\n",
    "    \n",
    "    #next, Evaluate the predictions\n",
    "    train_score = accuracy_score(train_pred, y_train)\n",
    "    test_score = accuracy_score(test_pred, y_test)\n",
    "    precision = precision_score(test_pred, y_test)\n",
    "    recall = recall_score(test_pred, y_test)\n",
    "\n",
    "    #store the result\n",
    "    results[name] = {\n",
    "        \"Train Accuracy\": train_score,\n",
    "        \"Test Accuracy\": test_score,\n",
    "        \"Precision Score\": precision,\n",
    "        \"Recall Score\": recall\n",
    "    }\n",
    "\n",
    "    #let's plot the confustion matrix\n",
    "\n",
    "    cm = confusion_matrix(test_pred, y_test)\n",
    "    disp = ConfusionMatrixDisplay(cm)\n",
    "    disp.plot(ax=ax, cmap='Blues')\n",
    "\n",
    "plt.tight_layout()\n",
    "plt.show()\n",
    "\n",
    "#print metrics\n",
    "print('\\nClassification Metrics')\n",
    "metrics_df=pd.DataFrame(results)\n",
    "print(metrics_df.T.round(4))\n"
   ]
  },
  {
   "cell_type": "code",
   "execution_count": 101,
   "id": "63bfecbe-6b4b-4ba9-b75c-1b0c55fd42f7",
   "metadata": {},
   "outputs": [
    {
     "data": {
      "text/plain": [
       "{'Logistic Regression': {'Train Accuracy': 0.7842014882655982,\n",
       "  'Test Accuracy': 0.782608695652174,\n",
       "  'Precision Score': 1.0,\n",
       "  'Recall Score': 0.782608695652174},\n",
       " 'Decision Tree': {'Train Accuracy': 1.0,\n",
       "  'Test Accuracy': 0.7837528604118993,\n",
       "  'Precision Score': 1.0,\n",
       "  'Recall Score': 0.7835051546391752},\n",
       " 'Random Forest': {'Train Accuracy': 1.0,\n",
       "  'Test Accuracy': 0.782608695652174,\n",
       "  'Precision Score': 0.9985380116959064,\n",
       "  'Recall Score': 0.783256880733945},\n",
       " 'Gradient Boost': {'Train Accuracy': 0.7819118488838008,\n",
       "  'Test Accuracy': 0.782608695652174,\n",
       "  'Precision Score': 1.0,\n",
       "  'Recall Score': 0.782608695652174},\n",
       " 'XGBoost': {'Train Accuracy': 0.7970807097882083,\n",
       "  'Test Accuracy': 0.7574370709382151,\n",
       "  'Precision Score': 0.9576023391812866,\n",
       "  'Recall Score': 0.7816229116945107}}"
      ]
     },
     "execution_count": 101,
     "metadata": {},
     "output_type": "execute_result"
    }
   ],
   "source": [
    "results"
   ]
  },
  {
   "cell_type": "code",
   "execution_count": 102,
   "id": "42b2b586-d54a-4c9f-99fa-8d996164da2e",
   "metadata": {},
   "outputs": [
    {
     "data": {
      "text/html": [
       "<div>\n",
       "<style scoped>\n",
       "    .dataframe tbody tr th:only-of-type {\n",
       "        vertical-align: middle;\n",
       "    }\n",
       "\n",
       "    .dataframe tbody tr th {\n",
       "        vertical-align: top;\n",
       "    }\n",
       "\n",
       "    .dataframe thead th {\n",
       "        text-align: right;\n",
       "    }\n",
       "</style>\n",
       "<table border=\"1\" class=\"dataframe\">\n",
       "  <thead>\n",
       "    <tr style=\"text-align: right;\">\n",
       "      <th></th>\n",
       "      <th>Logistic Regression</th>\n",
       "      <th>Decision Tree</th>\n",
       "      <th>Random Forest</th>\n",
       "      <th>Gradient Boost</th>\n",
       "      <th>XGBoost</th>\n",
       "    </tr>\n",
       "  </thead>\n",
       "  <tbody>\n",
       "    <tr>\n",
       "      <th>Train Accuracy</th>\n",
       "      <td>0.784201</td>\n",
       "      <td>1.000000</td>\n",
       "      <td>1.000000</td>\n",
       "      <td>0.781912</td>\n",
       "      <td>0.797081</td>\n",
       "    </tr>\n",
       "    <tr>\n",
       "      <th>Test Accuracy</th>\n",
       "      <td>0.782609</td>\n",
       "      <td>0.783753</td>\n",
       "      <td>0.782609</td>\n",
       "      <td>0.782609</td>\n",
       "      <td>0.757437</td>\n",
       "    </tr>\n",
       "    <tr>\n",
       "      <th>Precision Score</th>\n",
       "      <td>1.000000</td>\n",
       "      <td>1.000000</td>\n",
       "      <td>0.998538</td>\n",
       "      <td>1.000000</td>\n",
       "      <td>0.957602</td>\n",
       "    </tr>\n",
       "    <tr>\n",
       "      <th>Recall Score</th>\n",
       "      <td>0.782609</td>\n",
       "      <td>0.783505</td>\n",
       "      <td>0.783257</td>\n",
       "      <td>0.782609</td>\n",
       "      <td>0.781623</td>\n",
       "    </tr>\n",
       "  </tbody>\n",
       "</table>\n",
       "</div>"
      ],
      "text/plain": [
       "                 Logistic Regression  Decision Tree  Random Forest  \\\n",
       "Train Accuracy              0.784201       1.000000       1.000000   \n",
       "Test Accuracy               0.782609       0.783753       0.782609   \n",
       "Precision Score             1.000000       1.000000       0.998538   \n",
       "Recall Score                0.782609       0.783505       0.783257   \n",
       "\n",
       "                 Gradient Boost   XGBoost  \n",
       "Train Accuracy         0.781912  0.797081  \n",
       "Test Accuracy          0.782609  0.757437  \n",
       "Precision Score        1.000000  0.957602  \n",
       "Recall Score           0.782609  0.781623  "
      ]
     },
     "execution_count": 102,
     "metadata": {},
     "output_type": "execute_result"
    }
   ],
   "source": [
    "pd.DataFrame(results)"
   ]
  },
  {
   "cell_type": "code",
   "execution_count": 103,
   "id": "e26bb241-50c6-4ae8-aba5-fad04c59d7fb",
   "metadata": {},
   "outputs": [],
   "source": [
    "#so we can wee here that compared to DEcision treee and Random\n",
    "#forest which had overfitting (because the test accuracy is lower than\n",
    "#the train accuracy), logistic regression is the best fit because it has a higher proportion\n",
    "#of correct fit on the unseen test data\n",
    "#we also notice that the precision score for logistic regression is 1. This is a bit concerning,\n",
    "#because this might indicate that the model is too conservative in making positive predictions, \n",
    "#i.e, the model might miss some predictions of loan defaulter.\n",
    "\n",
    "#To resolve this, we will balance the target column"
   ]
  },
  {
   "cell_type": "markdown",
   "id": "4a7c34f4-1a27-4dec-b94d-db8bb25116fc",
   "metadata": {},
   "source": [
    "### Balance the target column"
   ]
  },
  {
   "cell_type": "code",
   "execution_count": 105,
   "id": "554efb71-4bf7-4110-84d8-d0f0e4329476",
   "metadata": {},
   "outputs": [],
   "source": [
    "from imblearn.over_sampling import SMOTE"
   ]
  },
  {
   "cell_type": "code",
   "execution_count": 106,
   "id": "6863dac1-630e-41bb-bc54-651d505c2dbd",
   "metadata": {},
   "outputs": [
    {
     "data": {
      "text/plain": [
       "good_bad_flag\n",
       "1    2732\n",
       "0     762\n",
       "Name: count, dtype: int64"
      ]
     },
     "execution_count": 106,
     "metadata": {},
     "output_type": "execute_result"
    }
   ],
   "source": [
    "y_train.value_counts()"
   ]
  },
  {
   "cell_type": "code",
   "execution_count": 107,
   "id": "f431faef-f5bd-4f48-8a7e-74875dd811b3",
   "metadata": {},
   "outputs": [],
   "source": [
    "smote = SMOTE(random_state=42)\n",
    "X_train_resampled, y_train_resampled = smote.fit_resample(X_train, y_train)"
   ]
  },
  {
   "cell_type": "code",
   "execution_count": null,
   "id": "d7a43f54-ffc4-4ca8-a47c-698e86c65119",
   "metadata": {},
   "outputs": [],
   "source": []
  },
  {
   "cell_type": "code",
   "execution_count": 108,
   "id": "51429439-1e32-47bf-9644-96c023c514fb",
   "metadata": {},
   "outputs": [
    {
     "data": {
      "text/plain": [
       "good_bad_flag\n",
       "0    2732\n",
       "1    2732\n",
       "Name: count, dtype: int64"
      ]
     },
     "execution_count": 108,
     "metadata": {},
     "output_type": "execute_result"
    }
   ],
   "source": [
    "y_train_resampled.value_counts()"
   ]
  },
  {
   "cell_type": "code",
   "execution_count": 109,
   "id": "2e23c14a-fa90-42ec-9126-1c2f07b8c937",
   "metadata": {},
   "outputs": [
    {
     "data": {
      "image/png": "[encoded data removed]",
      "text/plain": [
       "<Figure size 1800x400 with 10 Axes>"
      ]
     },
     "metadata": {},
     "output_type": "display_data"
    },
    {
     "name": "stdout",
     "output_type": "stream",
     "text": [
      "\n",
      "Classification Metrics\n",
      "                     Train Accuracy  Test Accuracy  Precision Score  \\\n",
      "Logistic Regression            0.99           0.77             0.98   \n",
      "Decision Tree                  1.00           0.64             0.76   \n",
      "Random Forest                  1.00           0.78             0.99   \n",
      "Gradient Boost                 0.67           0.54             0.52   \n",
      "XGBoost                        0.86           0.45             0.36   \n",
      "\n",
      "                     Recall Score  \n",
      "Logistic Regression          0.78  \n",
      "Decision Tree                0.78  \n",
      "Random Forest                0.79  \n",
      "Gradient Boost               0.84  \n",
      "XGBoost                      0.86  \n"
     ]
    }
   ],
   "source": [
    "#using for loop to evaluate our models\n",
    "#let's use a dictionary, to create an empty list and then put each model in it\n",
    "\n",
    "results = {}\n",
    "fig, axes = plt.subplots(1, 5, figsize=(18,4))\n",
    "\n",
    "for (name, model), ax in zip(models.items(), axes.flatten()): \n",
    "    #training the model\n",
    "    model.fit(X_train_resampled, y_train_resampled)\n",
    "    \n",
    "    #next, we want to evaluate our training score and test score\n",
    "    train_pred = model.predict(X_train_resampled)\n",
    "    test_pred = model.predict(X_test)\n",
    "    \n",
    "    #next, Evaluate the predictions\n",
    "    train_score = accuracy_score(train_pred, y_train_resampled)\n",
    "    test_score = accuracy_score(test_pred, y_test)\n",
    "    precision = precision_score(test_pred, y_test)\n",
    "    recall = recall_score(test_pred, y_test)\n",
    "\n",
    "    #store the result\n",
    "    results[name] = {\n",
    "        \"Train Accuracy\": train_score,\n",
    "        \"Test Accuracy\": test_score,\n",
    "        \"Precision Score\": precision,\n",
    "        \"Recall Score\": recall\n",
    "    }\n",
    "\n",
    "    #let's plot the confustion matrix\n",
    "\n",
    "    cm = confusion_matrix(test_pred, y_test)\n",
    "    disp = ConfusionMatrixDisplay(cm)\n",
    "    disp.plot(ax=ax, cmap='Blues')\n",
    "\n",
    "plt.tight_layout()\n",
    "plt.show()\n",
    "\n",
    "#print metrics\n",
    "print('\\nClassification Metrics')\n",
    "metrics_df=pd.DataFrame(results)\n",
    "print(metrics_df.T.round(2))\n"
   ]
  },
  {
   "cell_type": "raw",
   "id": "25387bbc-8ed1-4b0a-b1bc-ef0f8ceaa8ae",
   "metadata": {},
   "source": [
    "## Best Model: Logistic Regression\n",
    "- **Highest test accuracy (0.51)** - Best overall performance on unseen data\n",
    "- **Best precision (0.45)** - Most reliable positive predictions\n",
    "- **Highest recall (0.85)** - Captures the most positive cases\n",
    "- **Most balanced performance** - Best combination of all metrics\n",
    "\n",
    "## Trade-off Analysis:\n",
    "- All models show **high recall but low precision** - They're good at finding positive cases but generate many false positives\n",
    "- This suggests a **class imbalance problem** where models are biased toward the positive class\n",
    "\n",
    "## Model-Specific Insights:\n",
    "\n",
    "### Decision Tree & Random Forest\n",
    "- **Good at finding positives** (recall 0.84) but with many false alarms\n",
    "- Random Forest has better precision (0.30 vs 0.17) and test accuracy than Decision Tree\n",
    "\n",
    "### Gradient Boost & XGBoost\n",
    "- Despite their usual strength, they underperform here\n",
    "- XGBoost has the worst precision (0.07) - almost all positive predictions are wrong\n",
    "\n",
    "## Recommendation:\n",
    "1. **Use Logistic Regression** - It offers the best balance of metrics\n",
    "2. **Address class imbalance** with techniques like:\n",
    "   - SMOTE for oversampling the minority class\n",
    "   - Class weights in model parameters\n",
    "   - Adjusting classification thresholds\n",
    "3. **Feature selection/engineering** to improve signal-to-noise ratio\n",
    "4. **Consider the business context** - If false negatives are very costly, the high recall across models is valuable despite low precision\n",
    "\n",
    "The high recall/low precision pattern across all models strongly suggests addressing data balance issues before further model tuning."
   ]
  },
  {
   "cell_type": "code",
   "execution_count": 211,
   "id": "e0e1c092-1441-4242-94fa-261461ba38ae",
   "metadata": {},
   "outputs": [
    {
     "data": {
      "text/html": [
       "<div>\n",
       "<style scoped>\n",
       "    .dataframe tbody tr th:only-of-type {\n",
       "        vertical-align: middle;\n",
       "    }\n",
       "\n",
       "    .dataframe tbody tr th {\n",
       "        vertical-align: top;\n",
       "    }\n",
       "\n",
       "    .dataframe thead th {\n",
       "        text-align: right;\n",
       "    }\n",
       "</style>\n",
       "<table border=\"1\" class=\"dataframe\">\n",
       "  <thead>\n",
       "    <tr style=\"text-align: right;\">\n",
       "      <th></th>\n",
       "      <th>customerid</th>\n",
       "      <th>systemloanid</th>\n",
       "      <th>approveddate</th>\n",
       "      <th>loanamount</th>\n",
       "      <th>totaldue</th>\n",
       "      <th>termdays</th>\n",
       "      <th>good_bad_flag</th>\n",
       "      <th>bank_account_type</th>\n",
       "      <th>employment_status_clients</th>\n",
       "      <th>age</th>\n",
       "    </tr>\n",
       "  </thead>\n",
       "  <tbody>\n",
       "    <tr>\n",
       "      <th>0</th>\n",
       "      <td>8a2a81a74ce8c05d014cfb32a0da1049</td>\n",
       "      <td>301994762</td>\n",
       "      <td>2017-07-25 08:22:56.000000</td>\n",
       "      <td>30000.0</td>\n",
       "      <td>34500.0</td>\n",
       "      <td>30</td>\n",
       "      <td>1</td>\n",
       "      <td>Other</td>\n",
       "      <td>Permanent</td>\n",
       "      <td>53.0</td>\n",
       "    </tr>\n",
       "    <tr>\n",
       "      <th>1</th>\n",
       "      <td>8a85886e54beabf90154c0a29ae757c0</td>\n",
       "      <td>301965204</td>\n",
       "      <td>2017-07-05 17:04:41.000000</td>\n",
       "      <td>15000.0</td>\n",
       "      <td>17250.0</td>\n",
       "      <td>30</td>\n",
       "      <td>1</td>\n",
       "      <td>Savings</td>\n",
       "      <td>Permanent</td>\n",
       "      <td>40.0</td>\n",
       "    </tr>\n",
       "    <tr>\n",
       "      <th>2</th>\n",
       "      <td>8a8588f35438fe12015444567666018e</td>\n",
       "      <td>301966580</td>\n",
       "      <td>2017-07-06 14:52:57.000000</td>\n",
       "      <td>20000.0</td>\n",
       "      <td>22250.0</td>\n",
       "      <td>15</td>\n",
       "      <td>1</td>\n",
       "      <td>Other</td>\n",
       "      <td>Permanent</td>\n",
       "      <td>41.0</td>\n",
       "    </tr>\n",
       "    <tr>\n",
       "      <th>3</th>\n",
       "      <td>8a85890754145ace015429211b513e16</td>\n",
       "      <td>301999343</td>\n",
       "      <td>2017-07-27 19:00:41.000000</td>\n",
       "      <td>10000.0</td>\n",
       "      <td>11500.0</td>\n",
       "      <td>15</td>\n",
       "      <td>1</td>\n",
       "      <td>Savings</td>\n",
       "      <td>Permanent</td>\n",
       "      <td>48.0</td>\n",
       "    </tr>\n",
       "    <tr>\n",
       "      <th>4</th>\n",
       "      <td>8a858970548359cc0154883481981866</td>\n",
       "      <td>301962360</td>\n",
       "      <td>2017-07-03 23:42:45.000000</td>\n",
       "      <td>40000.0</td>\n",
       "      <td>44000.0</td>\n",
       "      <td>30</td>\n",
       "      <td>1</td>\n",
       "      <td>Other</td>\n",
       "      <td>Permanent</td>\n",
       "      <td>39.0</td>\n",
       "    </tr>\n",
       "  </tbody>\n",
       "</table>\n",
       "</div>"
      ],
      "text/plain": [
       "                         customerid  systemloanid                approveddate  \\\n",
       "0  8a2a81a74ce8c05d014cfb32a0da1049     301994762  2017-07-25 08:22:56.000000   \n",
       "1  8a85886e54beabf90154c0a29ae757c0     301965204  2017-07-05 17:04:41.000000   \n",
       "2  8a8588f35438fe12015444567666018e     301966580  2017-07-06 14:52:57.000000   \n",
       "3  8a85890754145ace015429211b513e16     301999343  2017-07-27 19:00:41.000000   \n",
       "4  8a858970548359cc0154883481981866     301962360  2017-07-03 23:42:45.000000   \n",
       "\n",
       "   loanamount  totaldue  termdays  good_bad_flag bank_account_type  \\\n",
       "0     30000.0   34500.0        30              1             Other   \n",
       "1     15000.0   17250.0        30              1           Savings   \n",
       "2     20000.0   22250.0        15              1             Other   \n",
       "3     10000.0   11500.0        15              1           Savings   \n",
       "4     40000.0   44000.0        30              1             Other   \n",
       "\n",
       "  employment_status_clients   age  \n",
       "0                 Permanent  53.0  \n",
       "1                 Permanent  40.0  \n",
       "2                 Permanent  41.0  \n",
       "3                 Permanent  48.0  \n",
       "4                 Permanent  39.0  "
      ]
     },
     "execution_count": 211,
     "metadata": {},
     "output_type": "execute_result"
    }
   ],
   "source": [
    "df5.head(5)"
   ]
  },
  {
   "cell_type": "code",
   "execution_count": null,
   "id": "71bfd31e-9208-4315-8104-9510565d03aa",
   "metadata": {},
   "outputs": [],
   "source": []
  },
  {
   "cell_type": "code",
   "execution_count": 229,
   "id": "82cd6803-a039-4561-b4d8-89a6daba24ce",
   "metadata": {},
   "outputs": [],
   "source": [
    "df5.to_csv('project_cleaned_data')"
   ]
  },
  {
   "cell_type": "code",
   "execution_count": 233,
   "id": "d89a0d3d-8dd0-400b-91ac-6279c0bdf7b4",
   "metadata": {},
   "outputs": [],
   "source": [
    "df5.to_csv('project_data.csv', encoding='utf-8')"
   ]
  },
  {
   "cell_type": "code",
   "execution_count": null,
   "id": "b67dbc49-3b66-43c4-bd0b-72a4ce6a6460",
   "metadata": {},
   "outputs": [],
   "source": []
  }
 ],
 "metadata": {
  "kernelspec": {
   "display_name": "Python [conda env:base] *",
   "language": "python",
   "name": "conda-base-py"
  },
  "language_info": {
   "codemirror_mode": {
    "name": "ipython",
    "version": 3
   },
   "file_extension": ".py",
   "mimetype": "text/x-python",
   "name": "python",
   "nbconvert_exporter": "python",
   "pygments_lexer": "ipython3",
   "version": "3.12.7"
  }
 },
 "nbformat": 4,
 "nbformat_minor": 5
}
